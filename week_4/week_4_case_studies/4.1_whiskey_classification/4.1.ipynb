{
 "cells": [
  {
   "cell_type": "code",
   "execution_count": 2,
   "metadata": {},
   "outputs": [],
   "source": [
    "#Necessary so that each cell can produce multiple outputs\n",
    "from IPython.core.interactiveshell import InteractiveShell\n",
    "InteractiveShell.ast_node_interactivity = \"all\""
   ]
  },
  {
   "cell_type": "markdown",
   "metadata": {},
   "source": [
    "## 4.1.1: Getting Started with Pandas\n",
    "***\n",
    " - Learn how to use __Pandas Series__\n",
    " - Learn how to use __Pandas Dataframes__\n",
    "\n",
    "Scotch Whiskey:\n",
    "- prized for complexity and flavors\n",
    "- Regions where it's produced are believed to have distinct flavor profiles\n",
    "\n",
    "In this case study, we classify Scotch whiskeys based on flavor \n",
    "\n",
    "Use Pandas, NumPy, scikit-learn, Bokeh\n",
    " "
   ]
  },
  {
   "cell_type": "markdown",
   "metadata": {},
   "source": [
    "This dataset consists of tasting ratings of readily available, single-malt, scotch whiskey from almost every active distillery in Scotland\n",
    "- 86 malt whiskies rated between 0 and 4 in 12 different categories, ranked by 10 different tasters"
   ]
  },
  {
   "cell_type": "markdown",
   "metadata": {},
   "source": [
    "Let's first look at series in Pandas"
   ]
  },
  {
   "cell_type": "code",
   "execution_count": 3,
   "metadata": {},
   "outputs": [
    {
     "output_type": "execute_result",
     "data": {
      "text/plain": "0    6\n1    3\n2    8\n3    6\ndtype: int64"
     },
     "metadata": {},
     "execution_count": 3
    }
   ],
   "source": [
    "import pandas as pd\n",
    "x = pd.Series([6,3,8,6])\n",
    "x"
   ]
  },
  {
   "cell_type": "markdown",
   "metadata": {},
   "source": [
    "Since we didn't specify an index, Pandas is using the default index (a series of integers starting at 0 and increasing one by one for each subsequent row). \n",
    "\n",
    "Now let's specify an index explicitly"
   ]
  },
  {
   "cell_type": "code",
   "execution_count": 4,
   "metadata": {},
   "outputs": [
    {
     "output_type": "execute_result",
     "data": {
      "text/plain": "q    6\nw    3\ne    8\nr    6\ndtype: int64"
     },
     "metadata": {},
     "execution_count": 4
    }
   ],
   "source": [
    "x = pd.Series([6,3,8,6], index = ['q','w','e','r'])\n",
    "x"
   ]
  },
  {
   "cell_type": "markdown",
   "metadata": {},
   "source": [
    "You can use the index to specify values or a list of values. \n",
    "- EX: if you wanted to look up the value of 'w' you could do:"
   ]
  },
  {
   "cell_type": "code",
   "execution_count": 5,
   "metadata": {},
   "outputs": [
    {
     "output_type": "execute_result",
     "data": {
      "text/plain": "3"
     },
     "metadata": {},
     "execution_count": 5
    }
   ],
   "source": [
    "x['w']"
   ]
  },
  {
   "cell_type": "markdown",
   "metadata": {},
   "source": [
    "If we want multiple entries, we construct a list of the entries we're interested in:"
   ]
  },
  {
   "cell_type": "code",
   "execution_count": 6,
   "metadata": {},
   "outputs": [
    {
     "output_type": "execute_result",
     "data": {
      "text/plain": "r    6\nw    3\ndtype: int64"
     },
     "metadata": {},
     "execution_count": 6
    }
   ],
   "source": [
    "x[['r', 'w']]"
   ]
  },
  {
   "cell_type": "markdown",
   "metadata": {},
   "source": [
    "Many ways to construct a series object in Pandas: a common way is by passing a dictionary:"
   ]
  },
  {
   "cell_type": "code",
   "execution_count": 7,
   "metadata": {},
   "outputs": [
    {
     "output_type": "execute_result",
     "data": {
      "text/plain": "Tim    29\nJim    31\nPam    27\nSam    35\ndtype: int64"
     },
     "metadata": {},
     "execution_count": 7
    }
   ],
   "source": [
    "age = {'Tim':29, 'Jim':31, 'Pam':27, 'Sam':35}\n",
    "x=pd.Series(age)\n",
    "x"
   ]
  },
  {
   "cell_type": "markdown",
   "metadata": {},
   "source": [
    "Note that the index is the keys of the dictionary in order, and the values are the values"
   ]
  },
  {
   "cell_type": "markdown",
   "metadata": {},
   "source": [
    "Now let's take a look at Dataframes:\n",
    "- Represent table-like data and have __row__ and __column__ indices\n",
    "- Like with series, there are many ways to construct a dataframe\n",
    "    - A common way is by passing a dictionary where the value objects are lists/Numpy Arrays of equal lengths:\n",
    "    "
   ]
  },
  {
   "cell_type": "code",
   "execution_count": 8,
   "metadata": {},
   "outputs": [
    {
     "output_type": "execute_result",
     "data": {
      "text/plain": "  name  age    ZIP\n0  Tim   29  02115\n1  Jim   31  02130\n2  Pam   27  67700\n3  Sam   35  00100",
      "text/html": "<div>\n<style scoped>\n    .dataframe tbody tr th:only-of-type {\n        vertical-align: middle;\n    }\n\n    .dataframe tbody tr th {\n        vertical-align: top;\n    }\n\n    .dataframe thead th {\n        text-align: right;\n    }\n</style>\n<table border=\"1\" class=\"dataframe\">\n  <thead>\n    <tr style=\"text-align: right;\">\n      <th></th>\n      <th>name</th>\n      <th>age</th>\n      <th>ZIP</th>\n    </tr>\n  </thead>\n  <tbody>\n    <tr>\n      <th>0</th>\n      <td>Tim</td>\n      <td>29</td>\n      <td>02115</td>\n    </tr>\n    <tr>\n      <th>1</th>\n      <td>Jim</td>\n      <td>31</td>\n      <td>02130</td>\n    </tr>\n    <tr>\n      <th>2</th>\n      <td>Pam</td>\n      <td>27</td>\n      <td>67700</td>\n    </tr>\n    <tr>\n      <th>3</th>\n      <td>Sam</td>\n      <td>35</td>\n      <td>00100</td>\n    </tr>\n  </tbody>\n</table>\n</div>"
     },
     "metadata": {},
     "execution_count": 8
    }
   ],
   "source": [
    "data = {'name':['Tim', 'Jim', 'Pam', 'Sam'],\n",
    "        'age':[29,31,27,35],\n",
    "        'ZIP':['02115', '02130', '67700', '00100']}\n",
    "x = pd.DataFrame(data, columns = ['name', 'age', 'ZIP'])\n",
    "x"
   ]
  },
  {
   "cell_type": "markdown",
   "metadata": {},
   "source": [
    "To retrieve a column, we can use dictionary-like notation, or specify the name of the column as an attribute of the DataFrame"
   ]
  },
  {
   "cell_type": "code",
   "execution_count": 9,
   "metadata": {},
   "outputs": [
    {
     "output_type": "execute_result",
     "data": {
      "text/plain": "0    Tim\n1    Jim\n2    Pam\n3    Sam\nName: name, dtype: object"
     },
     "metadata": {},
     "execution_count": 9
    },
    {
     "output_type": "execute_result",
     "data": {
      "text/plain": "0    Tim\n1    Jim\n2    Pam\n3    Sam\nName: name, dtype: object"
     },
     "metadata": {},
     "execution_count": 9
    }
   ],
   "source": [
    "x['name']\n",
    "x.name"
   ]
  },
  {
   "cell_type": "markdown",
   "metadata": {},
   "source": [
    "We often need to reindex a series or a dataframe object. This does not affect the relationship between the index and the corresponding data, it reorders the data in the object"
   ]
  },
  {
   "cell_type": "code",
   "execution_count": 10,
   "metadata": {
    "tags": []
   },
   "outputs": [
    {
     "output_type": "execute_result",
     "data": {
      "text/plain": "q    6\nw    3\ne    8\nr    6\ndtype: int64"
     },
     "metadata": {},
     "execution_count": 10
    },
    {
     "output_type": "execute_result",
     "data": {
      "text/plain": "Index(['q', 'w', 'e', 'r'], dtype='object')"
     },
     "metadata": {},
     "execution_count": 10
    },
    {
     "output_type": "stream",
     "name": "stdout",
     "text": "Reindexed:\n"
    },
    {
     "output_type": "execute_result",
     "data": {
      "text/plain": "e    8\nq    6\nr    6\nw    3\ndtype: int64"
     },
     "metadata": {},
     "execution_count": 10
    }
   ],
   "source": [
    "x = pd.Series([6,3,8,6], index = ['q','w','e','r'])\n",
    "x\n",
    "x.index\n",
    "\n",
    "#Let's take the index and construct a new python list \n",
    "print('Reindexed:')\n",
    "x.reindex(sorted(x.index))"
   ]
  },
  {
   "cell_type": "markdown",
   "metadata": {},
   "source": [
    "Pandas supports arithmetic operations. The data alignment happens by index (entries that have the same index are added together).\n",
    "If the indices do not match, Pandas introduces a NAN (not a number) object"
   ]
  },
  {
   "cell_type": "code",
   "execution_count": 12,
   "metadata": {},
   "outputs": [
    {
     "output_type": "execute_result",
     "data": {
      "text/plain": "q    6\nw    3\ne    8\nr    6\ndtype: int64"
     },
     "metadata": {},
     "execution_count": 12
    },
    {
     "output_type": "execute_result",
     "data": {
      "text/plain": "e    7\nq    3\nr    5\nt    2\ndtype: int64"
     },
     "metadata": {},
     "execution_count": 12
    },
    {
     "output_type": "execute_result",
     "data": {
      "text/plain": "e    15.0\nq     9.0\nr    11.0\nt     NaN\nw     NaN\ndtype: float64"
     },
     "metadata": {},
     "execution_count": 12
    }
   ],
   "source": [
    "x = pd.Series([6,3,8,6], index = ['q','w','e','r'])\n",
    "y = pd.Series([7,3,5,2], index = ['e','q','r','t'])\n",
    "x\n",
    "y\n",
    "x+y"
   ]
  },
  {
   "cell_type": "markdown",
   "metadata": {},
   "source": [
    "Both dataframes had e, q, and r but only one of each had t and w. This is why they have NaN entries for those indices.  "
   ]
  },
  {
   "cell_type": "markdown",
   "metadata": {},
   "source": [
    "## 4.1.2: Loading and Inspecting Data\n",
    "***\n",
    " - Learn how to __load a CSV__ file using Pandas\n",
    " - Learn how to __view the beginning and end__ of a Pandas DataFrame\n",
    " - Learn how to __index__ a Pandas DataFrame by location\n",
    " "
   ]
  },
  {
   "cell_type": "code",
   "execution_count": null,
   "metadata": {},
   "outputs": [],
   "source": []
  }
 ],
 "metadata": {
  "language_info": {
   "codemirror_mode": {
    "name": "ipython",
    "version": 3
   },
   "file_extension": ".py",
   "mimetype": "text/x-python",
   "name": "python",
   "nbconvert_exporter": "python",
   "pygments_lexer": "ipython3",
   "version": 3
  },
  "orig_nbformat": 2,
  "kernelspec": {
   "name": "python_defaultSpec_1594391789011",
   "display_name": "Python 3.7.4 64-bit ('base': conda)"
  }
 },
 "nbformat": 4,
 "nbformat_minor": 2
}