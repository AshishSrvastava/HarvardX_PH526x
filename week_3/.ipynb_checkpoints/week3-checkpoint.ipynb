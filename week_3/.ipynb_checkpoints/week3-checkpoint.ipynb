{
 "cells": [
  {
   "cell_type": "code",
   "execution_count": 12,
   "metadata": {},
   "outputs": [],
   "source": [
    "from IPython.core.interactiveshell import InteractiveShell\n",
    "InteractiveShell.ast_node_interactivity = \"all\""
   ]
  },
  {
   "cell_type": "markdown",
   "metadata": {},
   "source": [
    "\n",
    "## 3.1.3: Importing DNA Data into Python\n",
    "***\n",
    "make sure your directory is the same as your files"
   ]
  },
  {
   "cell_type": "code",
   "execution_count": 45,
   "metadata": {
    "tags": []
   },
   "outputs": [
    {
     "output_type": "stream",
     "name": "stdout",
     "text": "/Users/ashishsrivastava/Desktop/Central/Python/HarvardX- PH526x/Week 3/python_case_studies/translation\n"
    }
   ],
   "source": [
    "cd /Users/ashishsrivastava/Desktop/Central/Python/HarvardX-\\ PH526x/Week\\ 3/python_case_studies/translation"
   ]
  },
  {
   "cell_type": "code",
   "execution_count": 14,
   "metadata": {
    "tags": []
   },
   "outputs": [
    {
     "output_type": "stream",
     "name": "stdout",
     "text": "GGTCAGAAAAAGCCCTCTCCATGTCTACTCACGATACATCCCTGAAAACCACTGAGGAAGTGGCTTTTCAGATCATCTTGCTTTGCCAGTTTGGGGTTGGGACTTTTGCCAATGTATTTCTCTTTGTCTATAATTTCTCTCCAATCTCGACTGGTTCTAAACAGAGGCCCAGACAAGTGATTTTAAGACACATGGCTGTGGCCAATGCCTTAACTCTCTTCCTCACTATATTTCCAAACAACATGATGACTTTTGCTCCAATTATTCCTCAAACTGACCTCAAATGTAAATTAGAATTCTTCACTCGCCTCGTGGCAAGAAGCACAAACTTGTGTTCAACTTGTGTTCTGAGTATCCATCAGTTTGTCACACTTGTTCCTGTTAATTCAGGTAAAGGAATACTCAGAGCAAGTGTCACAAACATGGCAAGTTATTCTTGTTACAGTTGTTGGTTCTTCAGTGTCTTAAATAACATCTACATTCCAATTAAGGTCACTGGTCCACAGTTAACAGACAATAACAATAACTCTAAAAGCAAGTTGTTCTGTTCCACTTCTGATTTCAGTGTAGGCATTGTCTTCTTGAGGTTTGCCCATGATGCCACATTCATGAGCATCATGGTCTGGACCAGTGTCTCCATGGTACTTCTCCTCCATAGACATTGTCAGAGAATGCAGTACATATTCACTCTCAATCAGGACCCCAGGGGCCAAGCAGAGACCACAGCAACCCATACTATCCTGATGCTGGTAGTCACATTTGTTGGCTTTTATCTTCTAAGTCTTATTTGTATCATCTTTTACACCTATTTTATATATTCTCATCATTCCCTGAGGCATTGCAATGACATTTTGGTTTCGGGTTTCCCTACAATTTCTCCTTTACTGTTGACCTTCAGAGACCCTAAGGGTCCTTGTTCTGTGTTCTTCAACTGTTGAAAGCCAGAGTCACTAAAAATGCCAAACACAGAAGACAGCTTTGCTAATACCATTAAATACTTTATTCCATAAATATGTTTTTAAAAGCTTGTATGAACAAGGTATGGTGCTCACTGCTATACTTATAAAAGAGTAAGGTTATAATCACTTGTTGATATGAAAAGATTTCTGGTTGGAATCTGATTGAAACAGTGAGTTATTCACCACCCTCCATTCTCT\n"
    }
   ],
   "source": [
    "inputfile = 'dna.txt'\n",
    "f=open(inputfile, 'r')\n",
    "seq = f.read()\n",
    "#there are some additional characters in the sequence '\\n' which make new lines which came in because we copied and pasted the data from the web. They'll cause problems for translation. how do we replace them?\n",
    "seq = seq.replace('\\n', '')\n",
    "#there may be extra characters that we can't see so we'll be  safe and replact hem\n",
    "seq = seq.replace('\\r', '')\n",
    "#now our data looks clean and useable\n",
    "print(seq)\n"
   ]
  },
  {
   "cell_type": "markdown",
   "metadata": {},
   "source": [
    "## 3.1.4: Translating the DNA Sequence\n",
    "***"
   ]
  },
  {
   "cell_type": "code",
   "execution_count": 32,
   "metadata": {},
   "outputs": [],
   "source": [
    "inputfile = 'dna.txt'\n",
    "f=open(inputfile, 'r')\n",
    "seq = f.read()\n",
    "seq = seq.replace('\\n', '')\n",
    "seq = seq.replace('\\r', '')\n",
    "\n",
    "def translate(seq):\n",
    "    \"\"\"Translate a string containing a nucleotide sequence into a string containing the corresponding sequence of amino acids . Nucleotides are translated in triplets using the table dictionary; each amino acid 4 is encoded with a string of length 1. \"\"\"\n",
    "\n",
    "    table = {\n",
    "    'ATA':'I', 'ATC':'I', 'ATT':'I', 'ATG':'M',\n",
    "    'ACA':'T', 'ACC':'T', 'ACG':'T', 'ACT':'T',\n",
    "    'AAC':'N', 'AAT':'N', 'AAA':'K', 'AAG':'K',\n",
    "    'AGC':'S', 'AGT':'S', 'AGA':'R', 'AGG':'R',\n",
    "    'CTA':'L', 'CTC':'L', 'CTG':'L', 'CTT':'L',\n",
    "    'CCA':'P', 'CCC':'P', 'CCG':'P', 'CCT':'P',\n",
    "    'CAC':'H', 'CAT':'H', 'CAA':'Q', 'CAG':'Q',\n",
    "    'CGA':'R', 'CGC':'R', 'CGG':'R', 'CGT':'R',\n",
    "    'GTA':'V', 'GTC':'V', 'GTG':'V', 'GTT':'V',\n",
    "    'GCA':'A', 'GCC':'A', 'GCG':'A', 'GCT':'A',\n",
    "    'GAC':'D', 'GAT':'D', 'GAA':'E', 'GAG':'E',\n",
    "    'GGA':'G', 'GGC':'G', 'GGG':'G', 'GGT':'G',\n",
    "    'TCA':'S', 'TCC':'S', 'TCG':'S', 'TCT':'S',\n",
    "    'TTC':'F', 'TTT':'F', 'TTA':'L', 'TTG':'L',\n",
    "    'TAC':'Y', 'TAT':'Y', 'TAA':'_', 'TAG':'_',\n",
    "    'TGC':'C', 'TGT':'C', 'TGA':'_', 'TGG':'W',\n",
    "    }\n",
    "    # we can check through the dictionary like table['CCT']\n",
    "\n",
    "    #pseudocode/instructions\n",
    "    protein = ''\n",
    "    # check that the sequence length is divisible by 3 using modulo operator\n",
    "    if len(seq) % 3==0:\n",
    "        # loop over the sequence\n",
    "        for i in range(0,len(seq),3):\n",
    "            # extract a single codon\n",
    "            codon = seq[i:i+3]\n",
    "            # look up the codon and store the result\n",
    "            protein+=table[codon]\n",
    "    return protein"
   ]
  },
  {
   "cell_type": "code",
   "execution_count": 27,
   "metadata": {
    "tags": []
   },
   "outputs": [
    {
     "output_type": "execute_result",
     "data": {
      "text/plain": "[0, 3, 6, 9]"
     },
     "metadata": {},
     "execution_count": 27
    }
   ],
   "source": [
    "#WORKSPACE\n",
    "\n",
    "# #The loop, but we want it 3 characters at a time\n",
    "# for s in seq:\n",
    "#     print(s)\n",
    "list(range(0,11,3))\n"
   ]
  },
  {
   "cell_type": "code",
   "execution_count": 37,
   "metadata": {
    "tags": []
   },
   "outputs": [
    {
     "output_type": "stream",
     "name": "stdout",
     "text": "Help on function translate in module __main__:\n\ntranslate(seq)\n    Translate a string containing a nucleotide sequence into a string containing the corresponding sequence of amino acids . Nucleotides are translated in triplets using the table dictionary; each amino acid 4 is encoded with a string of length 1.\n\n"
    }
   ],
   "source": [
    "#The docstring means that if we use help() on our function, it will tell us how it works\n",
    "def translate(seq):\n",
    "    \"\"\"Translate a string containing a nucleotide sequence into a string containing the corresponding sequence of amino acids . Nucleotides are translated in triplets using the table dictionary; each amino acid 4 is encoded with a string of length 1. \"\"\"\n",
    "\n",
    "    table = {\n",
    "    'ATA':'I', 'ATC':'I', 'ATT':'I', 'ATG':'M',\n",
    "    'ACA':'T', 'ACC':'T', 'ACG':'T', 'ACT':'T',\n",
    "    'AAC':'N', 'AAT':'N', 'AAA':'K', 'AAG':'K',\n",
    "    'AGC':'S', 'AGT':'S', 'AGA':'R', 'AGG':'R',\n",
    "    'CTA':'L', 'CTC':'L', 'CTG':'L', 'CTT':'L',\n",
    "    'CCA':'P', 'CCC':'P', 'CCG':'P', 'CCT':'P',\n",
    "    'CAC':'H', 'CAT':'H', 'CAA':'Q', 'CAG':'Q',\n",
    "    'CGA':'R', 'CGC':'R', 'CGG':'R', 'CGT':'R',\n",
    "    'GTA':'V', 'GTC':'V', 'GTG':'V', 'GTT':'V',\n",
    "    'GCA':'A', 'GCC':'A', 'GCG':'A', 'GCT':'A',\n",
    "    'GAC':'D', 'GAT':'D', 'GAA':'E', 'GAG':'E',\n",
    "    'GGA':'G', 'GGC':'G', 'GGG':'G', 'GGT':'G',\n",
    "    'TCA':'S', 'TCC':'S', 'TCG':'S', 'TCT':'S',\n",
    "    'TTC':'F', 'TTT':'F', 'TTA':'L', 'TTG':'L',\n",
    "    'TAC':'Y', 'TAT':'Y', 'TAA':'_', 'TAG':'_',\n",
    "    'TGC':'C', 'TGT':'C', 'TGA':'_', 'TGG':'W',\n",
    "    }\n",
    "    # we can check through the dictionary like table['CCT']\n",
    "\n",
    "    #pseudocode/instructions\n",
    "    protein = ''\n",
    "    # check that the sequence length is divisible by 3 using modulo operator\n",
    "    if len(seq) % 3==0:\n",
    "        # loop over the sequence\n",
    "        for i in range(0,len(seq),3):\n",
    "            # extract a single codon\n",
    "            codon = seq[i:i+3]\n",
    "            # look up the codon and store the result\n",
    "            protein+=table[codon]\n",
    "    return protein\n",
    "\n",
    "help(translate)"
   ]
  },
  {
   "cell_type": "code",
   "execution_count": 41,
   "metadata": {},
   "outputs": [
    {
     "output_type": "execute_result",
     "data": {
      "text/plain": "'CCTGAAAACC'"
     },
     "metadata": {},
     "execution_count": 41
    }
   ],
   "source": [
    "seq[40:50]"
   ]
  },
  {
   "cell_type": "markdown",
   "metadata": {},
   "source": [
    "## 3.1.5: Comparing your Translation\n",
    "***"
   ]
  },
  {
   "cell_type": "code",
   "execution_count": 42,
   "metadata": {},
   "outputs": [],
   "source": [
    "inputfile = 'dna.txt'\n",
    "\n",
    "def read_seq(inputfile):\n",
    "    '''Reads and returns the input sequence with special chacters removed'''\n",
    "    with open(inputfile, 'r') as f:\n",
    "        seq = f.read()\n",
    "    seq = seq.replace('\\n', '')\n",
    "    seq = seq.replace('\\r', '')\n",
    "    return seq\n",
    "\n",
    "def translate(seq):\n",
    "    \"\"\"Translate a string containing a nucleotide sequence into a string containing the corresponding sequence of amino acids . Nucleotides are translated in triplets using the table dictionary; each amino acid 4 is encoded with a string of length 1. \"\"\"\n",
    "\n",
    "    table = {\n",
    "    'ATA':'I', 'ATC':'I', 'ATT':'I', 'ATG':'M',\n",
    "    'ACA':'T', 'ACC':'T', 'ACG':'T', 'ACT':'T',\n",
    "    'AAC':'N', 'AAT':'N', 'AAA':'K', 'AAG':'K',\n",
    "    'AGC':'S', 'AGT':'S', 'AGA':'R', 'AGG':'R',\n",
    "    'CTA':'L', 'CTC':'L', 'CTG':'L', 'CTT':'L',\n",
    "    'CCA':'P', 'CCC':'P', 'CCG':'P', 'CCT':'P',\n",
    "    'CAC':'H', 'CAT':'H', 'CAA':'Q', 'CAG':'Q',\n",
    "    'CGA':'R', 'CGC':'R', 'CGG':'R', 'CGT':'R',\n",
    "    'GTA':'V', 'GTC':'V', 'GTG':'V', 'GTT':'V',\n",
    "    'GCA':'A', 'GCC':'A', 'GCG':'A', 'GCT':'A',\n",
    "    'GAC':'D', 'GAT':'D', 'GAA':'E', 'GAG':'E',\n",
    "    'GGA':'G', 'GGC':'G', 'GGG':'G', 'GGT':'G',\n",
    "    'TCA':'S', 'TCC':'S', 'TCG':'S', 'TCT':'S',\n",
    "    'TTC':'F', 'TTT':'F', 'TTA':'L', 'TTG':'L',\n",
    "    'TAC':'Y', 'TAT':'Y', 'TAA':'_', 'TAG':'_',\n",
    "    'TGC':'C', 'TGT':'C', 'TGA':'_', 'TGG':'W',\n",
    "    }\n",
    "    # we can check through the dictionary like table['CCT']\n",
    "\n",
    "    #pseudocode/instructions\n",
    "    protein = ''\n",
    "    # check that the sequence length is divisible by 3 using modulo operator\n",
    "    if len(seq) % 3==0:\n",
    "        # loop over the sequence\n",
    "        for i in range(0,len(seq),3):\n",
    "            # extract a single codon\n",
    "            codon = seq[i:i+3]\n",
    "            # look up the codon and store the result\n",
    "            protein+=table[codon]\n",
    "    return protein"
   ]
  },
  {
   "cell_type": "code",
   "execution_count": 60,
   "metadata": {},
   "outputs": [],
   "source": [
    "#we can check that the program works by doing the following"
   ]
  },
  {
   "cell_type": "code",
   "execution_count": 61,
   "metadata": {
    "tags": []
   },
   "outputs": [
    {
     "output_type": "stream",
     "name": "stdout",
     "text": "/Users/ashishsrivastava/Desktop/Central/Python/HarvardX- PH526x/Week 3/python_case_studies/translation\n"
    }
   ],
   "source": [
    "cd /Users/ashishsrivastava/Desktop/Central/Python/HarvardX-\\ PH526x/Week\\ 3/python_case_studies/translation"
   ]
  },
  {
   "cell_type": "code",
   "execution_count": 63,
   "metadata": {},
   "outputs": [
    {
     "output_type": "execute_result",
     "data": {
      "text/plain": "''"
     },
     "metadata": {},
     "execution_count": 63
    }
   ],
   "source": [
    "prt = read_seq('protein.txt')\n",
    "dna = read_seq('dna.txt')\n",
    "translate(dna)"
   ]
  },
  {
   "cell_type": "code",
   "execution_count": 64,
   "metadata": {},
   "outputs": [
    {
     "output_type": "execute_result",
     "data": {
      "text/plain": "2"
     },
     "metadata": {},
     "execution_count": 64
    }
   ],
   "source": [
    "#this is empty, meaning there could be an error with the length of our DNA string\n",
    "len(dna)%3"
   ]
  },
  {
   "cell_type": "markdown",
   "metadata": {},
   "source": [
    "on the NCBI website, under CDS, we see two numbers: 21, and 938. This is where the sequence starts and ends. Instead of taking the entire sequence, we want to start from 21, and end at 938. \n",
    "we can use string slicing, but need to be careful with the indices (NCBI uses different indices for numbers than python does, this would be 20 ->938 (actually position 937 and we want it inclusive\n"
   ]
  },
  {
   "cell_type": "code",
   "execution_count": 65,
   "metadata": {},
   "outputs": [
    {
     "output_type": "execute_result",
     "data": {
      "text/plain": "'MSTHDTSLKTTEEVAFQIILLCQFGVGTFANVFLFVYNFSPISTGSKQRPRQVILRHMAVANALTLFLTIFPNNMMTFAPIIPQTDLKCKLEFFTRLVARSTNLCSTCVLSIHQFVTLVPVNSGKGILRASVTNMASYSCYSCWFFSVLNNIYIPIKVTGPQLTDNNNNSKSKLFCSTSDFSVGIVFLRFAHDATFMSIMVWTSVSMVLLLHRHCQRMQYIFTLNQDPRGQAETTATHTILMLVVTFVGFYLLSLICIIFYTYFIYSHHSLRHCNDILVSGFPTISPLLLTFRDPKGPCSVFFNC_'"
     },
     "metadata": {},
     "execution_count": 65
    }
   ],
   "source": [
    "translate(dna[20:938])"
   ]
  },
  {
   "cell_type": "code",
   "execution_count": 66,
   "metadata": {},
   "outputs": [
    {
     "output_type": "execute_result",
     "data": {
      "text/plain": "'MSTHDTSLKTTEEVAFQIILLCQFGVGTFANVFLFVYNFSPISTGSKQRPRQVILRHMAVANALTLFLTIFPNNMMTFAPIIPQTDLKCKLEFFTRLVARSTNLCSTCVLSIHQFVTLVPVNSGKGILRASVTNMASYSCYSCWFFSVLNNIYIPIKVTGPQLTDNNNNSKSKLFCSTSDFSVGIVFLRFAHDATFMSIMVWTSVSMVLLLHRHCQRMQYIFTLNQDPRGQAETTATHTILMLVVTFVGFYLLSLICIIFYTYFIYSHHSLRHCNDILVSGFPTISPLLLTFRDPKGPCSVFFNC'"
     },
     "metadata": {},
     "execution_count": 66
    }
   ],
   "source": [
    "prt"
   ]
  },
  {
   "cell_type": "markdown",
   "metadata": {},
   "source": [
    "The only difference between these two sequences is the '_' that appears at the end of our sequence. This is a 'stop' codon. the stop codon is not included in the downloaded protein b/c it's usually not of interest. This means we can change the slice's ending point from 938 to 935"
   ]
  },
  {
   "cell_type": "code",
   "execution_count": 67,
   "metadata": {},
   "outputs": [
    {
     "output_type": "execute_result",
     "data": {
      "text/plain": "'MSTHDTSLKTTEEVAFQIILLCQFGVGTFANVFLFVYNFSPISTGSKQRPRQVILRHMAVANALTLFLTIFPNNMMTFAPIIPQTDLKCKLEFFTRLVARSTNLCSTCVLSIHQFVTLVPVNSGKGILRASVTNMASYSCYSCWFFSVLNNIYIPIKVTGPQLTDNNNNSKSKLFCSTSDFSVGIVFLRFAHDATFMSIMVWTSVSMVLLLHRHCQRMQYIFTLNQDPRGQAETTATHTILMLVVTFVGFYLLSLICIIFYTYFIYSHHSLRHCNDILVSGFPTISPLLLTFRDPKGPCSVFFNC'"
     },
     "metadata": {},
     "execution_count": 67
    }
   ],
   "source": [
    "translate(dna[20:935])"
   ]
  },
  {
   "cell_type": "code",
   "execution_count": 68,
   "metadata": {},
   "outputs": [
    {
     "output_type": "execute_result",
     "data": {
      "text/plain": "True"
     },
     "metadata": {},
     "execution_count": 68
    }
   ],
   "source": [
    "#To check the accuracy, we can use python\n",
    "prt == translate(dna[20:935])"
   ]
  },
  {
   "cell_type": "code",
   "execution_count": 71,
   "metadata": {},
   "outputs": [
    {
     "output_type": "execute_result",
     "data": {
      "text/plain": "True"
     },
     "metadata": {},
     "execution_count": 71
    }
   ],
   "source": [
    "#translate the protein all the way to 938, but exclude the last character\n",
    "prt == translate(dna[20:938])[:-1]"
   ]
  },
  {
   "cell_type": "code",
   "execution_count": 72,
   "metadata": {},
   "outputs": [
    {
     "output_type": "execute_result",
     "data": {
      "text/plain": "True"
     },
     "metadata": {},
     "execution_count": 72
    }
   ],
   "source": [
    "#Note that these two are the same selection of data\n",
    "translate(dna[20:938])[:-1] == translate(dna[20:935])\n"
   ]
  },
  {
   "cell_type": "markdown",
   "metadata": {},
   "source": [
    "# 3.2: Language Processing\n",
    "***"
   ]
  },
  {
   "cell_type": "markdown",
   "metadata": {},
   "source": [
    "## 3.2.5: Reading Multiple Files\n",
    "***\n"
   ]
  },
  {
   "cell_type": "markdown",
   "metadata": {},
   "source": [
    "Defining functions and filepaths:"
   ]
  },
  {
   "cell_type": "code",
   "execution_count": 4,
   "metadata": {},
   "outputs": [
    {
     "output_type": "execute_result",
     "data": {
      "text/plain": "['German', 'English', 'Portuguese', 'French']"
     },
     "metadata": {},
     "execution_count": 4
    }
   ],
   "source": [
    "def count_words(text):\n",
    "    '''\n",
    "    Counts the number of times each word occurs in the text (str). Returns dictionary where keys are\n",
    "    unique words and values are word counts. Skip punctuation. \n",
    "    '''\n",
    "    \n",
    "    text = text.lower()\n",
    "    skips = [\".\", \",\", \";\", \":\", \"'\", '\"', \"!\", \"?\"]\n",
    "    for ch in skips:\n",
    "        text = text.replace(ch, \"\")\n",
    "\n",
    "    word_counts= {}\n",
    "    #break down the text into words\n",
    "    for word in text.split(' '):\n",
    "        # known word: increase the counter for that word\n",
    "        if word in word_counts:\n",
    "            word_counts[word] += 1\n",
    "        # unknown word: establish the entry and initialize the counter\n",
    "        else: \n",
    "            word_counts[word] = 1\n",
    "    return word_counts\n",
    "\n",
    "\n",
    "# using counter instead\n",
    "from collections import Counter\n",
    "def count_words_fast(text):\n",
    "    '''\n",
    "    Counts the number of times each word occurs in the text (str). Returns dictionary where keys are\n",
    "    unique words and values are word counts. Skip punctuation. \n",
    "    '''\n",
    "    \n",
    "    text = text.lower()\n",
    "    skips = [\".\", \",\", \";\", \":\", \"'\", '\"', \"!\", \"?\"]\n",
    "    for ch in skips:\n",
    "        text = text.replace(ch, \"\")\n",
    "\n",
    "    word_counts = Counter(text.split(' '))\n",
    "    return word_counts\n",
    "\n",
    "\n",
    "def read_book(title_path):\n",
    "    '''\n",
    "    The function will read a book and return it as a string \n",
    "    '''\n",
    "    with open(title_path, 'r', encoding='utf8') as current_file:\n",
    "        text = current_file.read()\n",
    "        text = text.replace('\\n','').replace('\\r','')\n",
    "    return text\n",
    "    \n",
    "def word_stats(word_counts):\n",
    "    '''Return number of unique words and word frequencies'''\n",
    "    #count the number of unique words\n",
    "    num_unique = len(word_counts)\n",
    "    #word counts (frequencies) for each unique word\n",
    "    counts = word_counts.values()\n",
    "    return (num_unique, counts)\n",
    "\n",
    "#read all books in all subdirectories of the book folder\n",
    "import os\n",
    "book_dir = '/Users/ashishsrivastava/Desktop/Central/Python/HarvardX_PH526x/week_3/python_case_studies/language_processing/Books'\n",
    "os.listdir(book_dir)"
   ]
  },
  {
   "cell_type": "markdown",
   "metadata": {},
   "source": [
    "Making a dataframe of each of the books"
   ]
  },
  {
   "cell_type": "code",
   "execution_count": 5,
   "metadata": {
    "tags": []
   },
   "outputs": [
    {
     "output_type": "stream",
     "name": "stdout",
     "text": "/Users/ashishsrivastava/Desktop/Central/Python/HarvardX_PH526x/week_3/python_case_studies/language_processing/Books/German/schiller/Wallensteins Lager.txt\n/Users/ashishsrivastava/Desktop/Central/Python/HarvardX_PH526x/week_3/python_case_studies/language_processing/Books/German/schiller/die braut von messina.txt\n/Users/ashishsrivastava/Desktop/Central/Python/HarvardX_PH526x/week_3/python_case_studies/language_processing/Books/German/schiller/Der Parasit, oder die Kunst, sein GlÅck zu machen.txt\n/Users/ashishsrivastava/Desktop/Central/Python/HarvardX_PH526x/week_3/python_case_studies/language_processing/Books/German/schiller/Die Verschwîrung des Fiesco zu Genua.txt\n/Users/ashishsrivastava/Desktop/Central/Python/HarvardX_PH526x/week_3/python_case_studies/language_processing/Books/German/schiller/Kabale und Liebe.txt\n/Users/ashishsrivastava/Desktop/Central/Python/HarvardX_PH526x/week_3/python_case_studies/language_processing/Books/German/schiller/Die Huldigung der KÅnste.txt\n/Users/ashishsrivastava/Desktop/Central/Python/HarvardX_PH526x/week_3/python_case_studies/language_processing/Books/German/schiller/Der Neffe als Onkel.txt\n/Users/ashishsrivastava/Desktop/Central/Python/HarvardX_PH526x/week_3/python_case_studies/language_processing/Books/German/schiller/Die Piccolomini.txt\n/Users/ashishsrivastava/Desktop/Central/Python/HarvardX_PH526x/week_3/python_case_studies/language_processing/Books/German/schiller/Die Jungfrau von Orleans.txt\n/Users/ashishsrivastava/Desktop/Central/Python/HarvardX_PH526x/week_3/python_case_studies/language_processing/Books/German/schiller/Turandot, Prinzessin von China.txt\n/Users/ashishsrivastava/Desktop/Central/Python/HarvardX_PH526x/week_3/python_case_studies/language_processing/Books/German/schiller/Wallensteins Tod.txt\n/Users/ashishsrivastava/Desktop/Central/Python/HarvardX_PH526x/week_3/python_case_studies/language_processing/Books/German/lessing/minna von barnhelm.txt\n/Users/ashishsrivastava/Desktop/Central/Python/HarvardX_PH526x/week_3/python_case_studies/language_processing/Books/German/lessing/hamburgische dramaturgie.txt\n/Users/ashishsrivastava/Desktop/Central/Python/HarvardX_PH526x/week_3/python_case_studies/language_processing/Books/German/lessing/miss sara sampson.txt\n/Users/ashishsrivastava/Desktop/Central/Python/HarvardX_PH526x/week_3/python_case_studies/language_processing/Books/German/lessing/die juden.txt\n/Users/ashishsrivastava/Desktop/Central/Python/HarvardX_PH526x/week_3/python_case_studies/language_processing/Books/German/lessing/der freigeist.txt\n/Users/ashishsrivastava/Desktop/Central/Python/HarvardX_PH526x/week_3/python_case_studies/language_processing/Books/German/lessing/philotas.txt\n/Users/ashishsrivastava/Desktop/Central/Python/HarvardX_PH526x/week_3/python_case_studies/language_processing/Books/German/lessing/der junge gelehrte.txt\n/Users/ashishsrivastava/Desktop/Central/Python/HarvardX_PH526x/week_3/python_case_studies/language_processing/Books/German/lessing/emilia galotti.txt\n/Users/ashishsrivastava/Desktop/Central/Python/HarvardX_PH526x/week_3/python_case_studies/language_processing/Books/German/raimund/Der Verschwender.txt\n/Users/ashishsrivastava/Desktop/Central/Python/HarvardX_PH526x/week_3/python_case_studies/language_processing/Books/German/raimund/Die gefesselte Phantasie.txt\n/Users/ashishsrivastava/Desktop/Central/Python/HarvardX_PH526x/week_3/python_case_studies/language_processing/Books/German/raimund/Moisasurs Zauberfluch.txt\n/Users/ashishsrivastava/Desktop/Central/Python/HarvardX_PH526x/week_3/python_case_studies/language_processing/Books/German/raimund/Das MÑdchen aus der Feenwelt.txt\n/Users/ashishsrivastava/Desktop/Central/Python/HarvardX_PH526x/week_3/python_case_studies/language_processing/Books/German/raimund/Der Barometermacher auf der Zauberinsel.txt\n/Users/ashishsrivastava/Desktop/Central/Python/HarvardX_PH526x/week_3/python_case_studies/language_processing/Books/German/raimund/Der Diamant des Geisterkînigs.txt\n/Users/ashishsrivastava/Desktop/Central/Python/HarvardX_PH526x/week_3/python_case_studies/language_processing/Books/German/raimund/Die unheilbringende Krone.txt\n/Users/ashishsrivastava/Desktop/Central/Python/HarvardX_PH526x/week_3/python_case_studies/language_processing/Books/German/raimund/Der Alpenkînig und der Menschenfeind.txt\n/Users/ashishsrivastava/Desktop/Central/Python/HarvardX_PH526x/week_3/python_case_studies/language_processing/Books/German/shakespeare/Othello.txt\n/Users/ashishsrivastava/Desktop/Central/Python/HarvardX_PH526x/week_3/python_case_studies/language_processing/Books/German/shakespeare/Der Kaufmann von Venedig.txt\n/Users/ashishsrivastava/Desktop/Central/Python/HarvardX_PH526x/week_3/python_case_studies/language_processing/Books/German/shakespeare/Ein Sommernachtstraum.txt\n/Users/ashishsrivastava/Desktop/Central/Python/HarvardX_PH526x/week_3/python_case_studies/language_processing/Books/German/shakespeare/Richard III.txt\n/Users/ashishsrivastava/Desktop/Central/Python/HarvardX_PH526x/week_3/python_case_studies/language_processing/Books/German/shakespeare/Macbeth.txt\n/Users/ashishsrivastava/Desktop/Central/Python/HarvardX_PH526x/week_3/python_case_studies/language_processing/Books/German/shakespeare/Romeo und Julia.txt\n/Users/ashishsrivastava/Desktop/Central/Python/HarvardX_PH526x/week_3/python_case_studies/language_processing/Books/German/shakespeare/Hamlet.txt\n/Users/ashishsrivastava/Desktop/Central/Python/HarvardX_PH526x/week_3/python_case_studies/language_processing/Books/English/shakespeare/Othello.txt\n/Users/ashishsrivastava/Desktop/Central/Python/HarvardX_PH526x/week_3/python_case_studies/language_processing/Books/English/shakespeare/Richard III.txt\n/Users/ashishsrivastava/Desktop/Central/Python/HarvardX_PH526x/week_3/python_case_studies/language_processing/Books/English/shakespeare/The Merchant of Venice.txt\n/Users/ashishsrivastava/Desktop/Central/Python/HarvardX_PH526x/week_3/python_case_studies/language_processing/Books/English/shakespeare/A Midsummer Night's Dream.txt\n/Users/ashishsrivastava/Desktop/Central/Python/HarvardX_PH526x/week_3/python_case_studies/language_processing/Books/English/shakespeare/Macbeth.txt\n/Users/ashishsrivastava/Desktop/Central/Python/HarvardX_PH526x/week_3/python_case_studies/language_processing/Books/English/shakespeare/Hamlet.txt\n/Users/ashishsrivastava/Desktop/Central/Python/HarvardX_PH526x/week_3/python_case_studies/language_processing/Books/English/shakespeare/Romeo and Juliet.txt\n/Users/ashishsrivastava/Desktop/Central/Python/HarvardX_PH526x/week_3/python_case_studies/language_processing/Books/Portuguese/branco/O Regicida.txt\n/Users/ashishsrivastava/Desktop/Central/Python/HarvardX_PH526x/week_3/python_case_studies/language_processing/Books/Portuguese/branco/Amor de Salvação.txt\n/Users/ashishsrivastava/Desktop/Central/Python/HarvardX_PH526x/week_3/python_case_studies/language_processing/Books/Portuguese/branco/Carlota Angela.txt\n/Users/ashishsrivastava/Desktop/Central/Python/HarvardX_PH526x/week_3/python_case_studies/language_processing/Books/Portuguese/branco/Lagrimas Abenáoadas.txt\n/Users/ashishsrivastava/Desktop/Central/Python/HarvardX_PH526x/week_3/python_case_studies/language_processing/Books/Portuguese/branco/O que fazem mulheres.txt\n/Users/ashishsrivastava/Desktop/Central/Python/HarvardX_PH526x/week_3/python_case_studies/language_processing/Books/Portuguese/branco/Livro de Consolação.txt\n/Users/ashishsrivastava/Desktop/Central/Python/HarvardX_PH526x/week_3/python_case_studies/language_processing/Books/Portuguese/branco/Amor de Perdição.txt\n/Users/ashishsrivastava/Desktop/Central/Python/HarvardX_PH526x/week_3/python_case_studies/language_processing/Books/Portuguese/branco/A Filha do Arcediago.txt\n/Users/ashishsrivastava/Desktop/Central/Python/HarvardX_PH526x/week_3/python_case_studies/language_processing/Books/Portuguese/branco/Annos de Prosa.txt\n/Users/ashishsrivastava/Desktop/Central/Python/HarvardX_PH526x/week_3/python_case_studies/language_processing/Books/Portuguese/branco/Estrellas Prop°cias.txt\n/Users/ashishsrivastava/Desktop/Central/Python/HarvardX_PH526x/week_3/python_case_studies/language_processing/Books/Portuguese/branco/O Olho de Vidro.txt\n/Users/ashishsrivastava/Desktop/Central/Python/HarvardX_PH526x/week_3/python_case_studies/language_processing/Books/Portuguese/branco/A Neta do Arcediago.txt\n/Users/ashishsrivastava/Desktop/Central/Python/HarvardX_PH526x/week_3/python_case_studies/language_processing/Books/Portuguese/branco/A Queda d'um Anjo.txt\n/Users/ashishsrivastava/Desktop/Central/Python/HarvardX_PH526x/week_3/python_case_studies/language_processing/Books/Portuguese/branco/Scenas Contemporaneas.txt\n/Users/ashishsrivastava/Desktop/Central/Python/HarvardX_PH526x/week_3/python_case_studies/language_processing/Books/Portuguese/branco/Agulha em Palheiro.txt\n/Users/ashishsrivastava/Desktop/Central/Python/HarvardX_PH526x/week_3/python_case_studies/language_processing/Books/Portuguese/branco/Estrellas Funestas.txt\n/Users/ashishsrivastava/Desktop/Central/Python/HarvardX_PH526x/week_3/python_case_studies/language_processing/Books/Portuguese/shakespeare/Hamlet.txt\n/Users/ashishsrivastava/Desktop/Central/Python/HarvardX_PH526x/week_3/python_case_studies/language_processing/Books/Portuguese/Queir¢s/A Cidade e as Serras.txt\n/Users/ashishsrivastava/Desktop/Central/Python/HarvardX_PH526x/week_3/python_case_studies/language_processing/Books/Portuguese/Queir¢s/A Illustre Casa de Ramires.txt\n/Users/ashishsrivastava/Desktop/Central/Python/HarvardX_PH526x/week_3/python_case_studies/language_processing/Books/Portuguese/Queir¢s/O Primo Bazilio.txt\n/Users/ashishsrivastava/Desktop/Central/Python/HarvardX_PH526x/week_3/python_case_studies/language_processing/Books/Portuguese/Queir¢s/Os Maias.txt\n/Users/ashishsrivastava/Desktop/Central/Python/HarvardX_PH526x/week_3/python_case_studies/language_processing/Books/Portuguese/Queir¢s/O Mandarim.txt\n/Users/ashishsrivastava/Desktop/Central/Python/HarvardX_PH526x/week_3/python_case_studies/language_processing/Books/Portuguese/Queir¢s/O crime do padre Amaro.txt\n/Users/ashishsrivastava/Desktop/Central/Python/HarvardX_PH526x/week_3/python_case_studies/language_processing/Books/Portuguese/Queir¢s/Cartas de Inglaterra.txt\n/Users/ashishsrivastava/Desktop/Central/Python/HarvardX_PH526x/week_3/python_case_studies/language_processing/Books/Portuguese/Queir¢s/A Rel°quia.txt\n/Users/ashishsrivastava/Desktop/Central/Python/HarvardX_PH526x/week_3/python_case_studies/language_processing/Books/Portuguese/Queir¢s/A correspondància de Fradique Mendes.txt\n/Users/ashishsrivastava/Desktop/Central/Python/HarvardX_PH526x/week_3/python_case_studies/language_processing/Books/Portuguese/dinis/A Morgadinha dos Cannaviaes.txt\n/Users/ashishsrivastava/Desktop/Central/Python/HarvardX_PH526x/week_3/python_case_studies/language_processing/Books/Portuguese/dinis/Uma fam°lia ingleza.txt\n/Users/ashishsrivastava/Desktop/Central/Python/HarvardX_PH526x/week_3/python_case_studies/language_processing/Books/Portuguese/dinis/Os fidalgos da Casa Mourisca.txt\n/Users/ashishsrivastava/Desktop/Central/Python/HarvardX_PH526x/week_3/python_case_studies/language_processing/Books/French/de Maupassant/Œuvres complètes de Guy de Maupassant.txt\n/Users/ashishsrivastava/Desktop/Central/Python/HarvardX_PH526x/week_3/python_case_studies/language_processing/Books/French/de Maupassant/La Main Gauche.txt\n/Users/ashishsrivastava/Desktop/Central/Python/HarvardX_PH526x/week_3/python_case_studies/language_processing/Books/French/de Maupassant/Contes de la Becasse.txt\n/Users/ashishsrivastava/Desktop/Central/Python/HarvardX_PH526x/week_3/python_case_studies/language_processing/Books/French/de Maupassant/Claire de Lune.txt\n/Users/ashishsrivastava/Desktop/Central/Python/HarvardX_PH526x/week_3/python_case_studies/language_processing/Books/French/de Maupassant/La petite roque.txt\n/Users/ashishsrivastava/Desktop/Central/Python/HarvardX_PH526x/week_3/python_case_studies/language_processing/Books/French/de Maupassant/Le Horla.txt\n/Users/ashishsrivastava/Desktop/Central/Python/HarvardX_PH526x/week_3/python_case_studies/language_processing/Books/French/de Maupassant/L'inutile beautÇ.txt\n/Users/ashishsrivastava/Desktop/Central/Python/HarvardX_PH526x/week_3/python_case_studies/language_processing/Books/French/de Maupassant/Boule de Suif.txt\n/Users/ashishsrivastava/Desktop/Central/Python/HarvardX_PH526x/week_3/python_case_studies/language_processing/Books/French/de Maupassant/La Maison Tellier.txt\n/Users/ashishsrivastava/Desktop/Central/Python/HarvardX_PH526x/week_3/python_case_studies/language_processing/Books/French/diderot/L'oiseau blanc.txt\n/Users/ashishsrivastava/Desktop/Central/Python/HarvardX_PH526x/week_3/python_case_studies/language_processing/Books/French/diderot/Les deux amis de Bourbonne.txt\n/Users/ashishsrivastava/Desktop/Central/Python/HarvardX_PH526x/week_3/python_case_studies/language_processing/Books/French/diderot/Regrets sur ma vieille robe de chambre.txt\n/Users/ashishsrivastava/Desktop/Central/Python/HarvardX_PH526x/week_3/python_case_studies/language_processing/Books/French/diderot/Ceci n'est pas un conte.txt\n/Users/ashishsrivastava/Desktop/Central/Python/HarvardX_PH526x/week_3/python_case_studies/language_processing/Books/French/diderot/Entretien d'un päre avec ses enfants.txt\n/Users/ashishsrivastava/Desktop/Central/Python/HarvardX_PH526x/week_3/python_case_studies/language_processing/Books/French/chevalier/La fille des indiens rouges.txt\n/Users/ashishsrivastava/Desktop/Central/Python/HarvardX_PH526x/week_3/python_case_studies/language_processing/Books/French/chevalier/Les derniers Iroquois.txt\n/Users/ashishsrivastava/Desktop/Central/Python/HarvardX_PH526x/week_3/python_case_studies/language_processing/Books/French/chevalier/La capitaine.txt\n/Users/ashishsrivastava/Desktop/Central/Python/HarvardX_PH526x/week_3/python_case_studies/language_processing/Books/French/chevalier/Le chasseur noir.txt\n/Users/ashishsrivastava/Desktop/Central/Python/HarvardX_PH526x/week_3/python_case_studies/language_processing/Books/French/chevalier/L'enfer et le paradis de l'autre monde.txt\n/Users/ashishsrivastava/Desktop/Central/Python/HarvardX_PH526x/week_3/python_case_studies/language_processing/Books/French/chevalier/L'åle de sable.txt\n/Users/ashishsrivastava/Desktop/Central/Python/HarvardX_PH526x/week_3/python_case_studies/language_processing/Books/French/chevalier/La fille du pirate.txt\n/Users/ashishsrivastava/Desktop/Central/Python/HarvardX_PH526x/week_3/python_case_studies/language_processing/Books/French/sand/Le poâme de Myrza.txt\n/Users/ashishsrivastava/Desktop/Central/Python/HarvardX_PH526x/week_3/python_case_studies/language_processing/Books/French/sand/La Coupe; Lupo Liverani; Le Toast; Garnier; Le Contrebandier; La Ràverie Ö Paris.txt\n/Users/ashishsrivastava/Desktop/Central/Python/HarvardX_PH526x/week_3/python_case_studies/language_processing/Books/French/sand/Le Piccinino.txt\n/Users/ashishsrivastava/Desktop/Central/Python/HarvardX_PH526x/week_3/python_case_studies/language_processing/Books/French/sand/Jacques le fataliste et son maåtre.txt\n/Users/ashishsrivastava/Desktop/Central/Python/HarvardX_PH526x/week_3/python_case_studies/language_processing/Books/French/sand/Pauline.txt\n/Users/ashishsrivastava/Desktop/Central/Python/HarvardX_PH526x/week_3/python_case_studies/language_processing/Books/French/sand/cora.txt\n/Users/ashishsrivastava/Desktop/Central/Python/HarvardX_PH526x/week_3/python_case_studies/language_processing/Books/French/sand/La Marquise.txt\n/Users/ashishsrivastava/Desktop/Central/Python/HarvardX_PH526x/week_3/python_case_studies/language_processing/Books/French/sand/L' Orco.txt\n/Users/ashishsrivastava/Desktop/Central/Python/HarvardX_PH526x/week_3/python_case_studies/language_processing/Books/French/sand/Mattea.txt\n/Users/ashishsrivastava/Desktop/Central/Python/HarvardX_PH526x/week_3/python_case_studies/language_processing/Books/French/sand/Metella.txt\n/Users/ashishsrivastava/Desktop/Central/Python/HarvardX_PH526x/week_3/python_case_studies/language_processing/Books/French/sand/Oeuvres illustrÇes de George Sand.txt\n"
    }
   ],
   "source": [
    "import pandas as pd\n",
    "stats = pd.DataFrame(columns = ('language', 'author', 'title', 'length', 'unique'))\n",
    "#to add data to this table, we need to keep track of the rows of the table\n",
    "title_num = 1\n",
    "\n",
    "for language in os.listdir(book_dir):\n",
    "    #loops over authors\n",
    "    for author in os.listdir(book_dir + '/' + language):\n",
    "        #loops over titles\n",
    "        for title in os.listdir(book_dir + '/' + language + '/' + author):\n",
    "            inputfile = book_dir + '/' + language + '/' + author + '/' + title\n",
    "            #to test that it's working correctly\n",
    "            print(inputfile)\n",
    "            text = read_book(inputfile)\n",
    "            (num_unique, counts) = word_stats(count_words(text))\n",
    "            stats.loc[title_num] = language, author, title, sum(counts), num_unique\n",
    "            title_num +=1"
   ]
  },
  {
   "cell_type": "markdown",
   "metadata": {},
   "source": [
    "This dataframe 'stats' now has dimensions 102x5"
   ]
  },
  {
   "cell_type": "code",
   "execution_count": 6,
   "metadata": {},
   "outputs": [
    {
     "output_type": "execute_result",
     "data": {
      "text/plain": "    language    author                                              title  \\\n1     German  schiller                             Wallensteins Lager.txt   \n2     German  schiller                          die braut von messina.txt   \n3     German  schiller  Der Parasit, oder die Kunst, sein GlÅck zu mac...   \n4     German  schiller           Die Verschwîrung des Fiesco zu Genua.txt   \n5     German  schiller                               Kabale und Liebe.txt   \n..       ...       ...                                                ...   \n98    French      sand                                    La Marquise.txt   \n99    French      sand                                        L' Orco.txt   \n100   French      sand                                         Mattea.txt   \n101   French      sand                                        Metella.txt   \n102   French      sand              Oeuvres illustrÇes de George Sand.txt   \n\n    length unique  \n1    15443   4241  \n2    26482   6345  \n3    20450   5919  \n4    31128   9996  \n5    30929   9608  \n..     ...    ...  \n98   14716   4756  \n99    8748   3135  \n100  21089   6391  \n101  19600   5646  \n102  23210   7442  \n\n[102 rows x 5 columns]",
      "text/html": "<div>\n<style scoped>\n    .dataframe tbody tr th:only-of-type {\n        vertical-align: middle;\n    }\n\n    .dataframe tbody tr th {\n        vertical-align: top;\n    }\n\n    .dataframe thead th {\n        text-align: right;\n    }\n</style>\n<table border=\"1\" class=\"dataframe\">\n  <thead>\n    <tr style=\"text-align: right;\">\n      <th></th>\n      <th>language</th>\n      <th>author</th>\n      <th>title</th>\n      <th>length</th>\n      <th>unique</th>\n    </tr>\n  </thead>\n  <tbody>\n    <tr>\n      <th>1</th>\n      <td>German</td>\n      <td>schiller</td>\n      <td>Wallensteins Lager.txt</td>\n      <td>15443</td>\n      <td>4241</td>\n    </tr>\n    <tr>\n      <th>2</th>\n      <td>German</td>\n      <td>schiller</td>\n      <td>die braut von messina.txt</td>\n      <td>26482</td>\n      <td>6345</td>\n    </tr>\n    <tr>\n      <th>3</th>\n      <td>German</td>\n      <td>schiller</td>\n      <td>Der Parasit, oder die Kunst, sein GlÅck zu mac...</td>\n      <td>20450</td>\n      <td>5919</td>\n    </tr>\n    <tr>\n      <th>4</th>\n      <td>German</td>\n      <td>schiller</td>\n      <td>Die Verschwîrung des Fiesco zu Genua.txt</td>\n      <td>31128</td>\n      <td>9996</td>\n    </tr>\n    <tr>\n      <th>5</th>\n      <td>German</td>\n      <td>schiller</td>\n      <td>Kabale und Liebe.txt</td>\n      <td>30929</td>\n      <td>9608</td>\n    </tr>\n    <tr>\n      <th>...</th>\n      <td>...</td>\n      <td>...</td>\n      <td>...</td>\n      <td>...</td>\n      <td>...</td>\n    </tr>\n    <tr>\n      <th>98</th>\n      <td>French</td>\n      <td>sand</td>\n      <td>La Marquise.txt</td>\n      <td>14716</td>\n      <td>4756</td>\n    </tr>\n    <tr>\n      <th>99</th>\n      <td>French</td>\n      <td>sand</td>\n      <td>L' Orco.txt</td>\n      <td>8748</td>\n      <td>3135</td>\n    </tr>\n    <tr>\n      <th>100</th>\n      <td>French</td>\n      <td>sand</td>\n      <td>Mattea.txt</td>\n      <td>21089</td>\n      <td>6391</td>\n    </tr>\n    <tr>\n      <th>101</th>\n      <td>French</td>\n      <td>sand</td>\n      <td>Metella.txt</td>\n      <td>19600</td>\n      <td>5646</td>\n    </tr>\n    <tr>\n      <th>102</th>\n      <td>French</td>\n      <td>sand</td>\n      <td>Oeuvres illustrÇes de George Sand.txt</td>\n      <td>23210</td>\n      <td>7442</td>\n    </tr>\n  </tbody>\n</table>\n<p>102 rows × 5 columns</p>\n</div>"
     },
     "metadata": {},
     "execution_count": 6
    }
   ],
   "source": [
    "stats"
   ]
  },
  {
   "cell_type": "markdown",
   "metadata": {},
   "source": [
    "For large dataframes, it's difficult to see the whole dataframe at once, so it's useful to use the df.head() and df.tail() commands which give the top and bottom 5 lines respectively"
   ]
  },
  {
   "cell_type": "code",
   "execution_count": 8,
   "metadata": {},
   "outputs": [
    {
     "output_type": "execute_result",
     "data": {
      "text/plain": "  language    author                                              title  \\\n1   German  schiller                             Wallensteins Lager.txt   \n2   German  schiller                          die braut von messina.txt   \n3   German  schiller  Der Parasit, oder die Kunst, sein GlÅck zu mac...   \n4   German  schiller           Die Verschwîrung des Fiesco zu Genua.txt   \n5   German  schiller                               Kabale und Liebe.txt   \n\n  length unique  \n1  15443   4241  \n2  26482   6345  \n3  20450   5919  \n4  31128   9996  \n5  30929   9608  ",
      "text/html": "<div>\n<style scoped>\n    .dataframe tbody tr th:only-of-type {\n        vertical-align: middle;\n    }\n\n    .dataframe tbody tr th {\n        vertical-align: top;\n    }\n\n    .dataframe thead th {\n        text-align: right;\n    }\n</style>\n<table border=\"1\" class=\"dataframe\">\n  <thead>\n    <tr style=\"text-align: right;\">\n      <th></th>\n      <th>language</th>\n      <th>author</th>\n      <th>title</th>\n      <th>length</th>\n      <th>unique</th>\n    </tr>\n  </thead>\n  <tbody>\n    <tr>\n      <th>1</th>\n      <td>German</td>\n      <td>schiller</td>\n      <td>Wallensteins Lager.txt</td>\n      <td>15443</td>\n      <td>4241</td>\n    </tr>\n    <tr>\n      <th>2</th>\n      <td>German</td>\n      <td>schiller</td>\n      <td>die braut von messina.txt</td>\n      <td>26482</td>\n      <td>6345</td>\n    </tr>\n    <tr>\n      <th>3</th>\n      <td>German</td>\n      <td>schiller</td>\n      <td>Der Parasit, oder die Kunst, sein GlÅck zu mac...</td>\n      <td>20450</td>\n      <td>5919</td>\n    </tr>\n    <tr>\n      <th>4</th>\n      <td>German</td>\n      <td>schiller</td>\n      <td>Die Verschwîrung des Fiesco zu Genua.txt</td>\n      <td>31128</td>\n      <td>9996</td>\n    </tr>\n    <tr>\n      <th>5</th>\n      <td>German</td>\n      <td>schiller</td>\n      <td>Kabale und Liebe.txt</td>\n      <td>30929</td>\n      <td>9608</td>\n    </tr>\n  </tbody>\n</table>\n</div>"
     },
     "metadata": {},
     "execution_count": 8
    }
   ],
   "source": [
    "stats.head()"
   ]
  },
  {
   "cell_type": "code",
   "execution_count": 9,
   "metadata": {},
   "outputs": [
    {
     "output_type": "execute_result",
     "data": {
      "text/plain": "    language author                                  title length unique\n98    French   sand                        La Marquise.txt  14716   4756\n99    French   sand                            L' Orco.txt   8748   3135\n100   French   sand                             Mattea.txt  21089   6391\n101   French   sand                            Metella.txt  19600   5646\n102   French   sand  Oeuvres illustrÇes de George Sand.txt  23210   7442",
      "text/html": "<div>\n<style scoped>\n    .dataframe tbody tr th:only-of-type {\n        vertical-align: middle;\n    }\n\n    .dataframe tbody tr th {\n        vertical-align: top;\n    }\n\n    .dataframe thead th {\n        text-align: right;\n    }\n</style>\n<table border=\"1\" class=\"dataframe\">\n  <thead>\n    <tr style=\"text-align: right;\">\n      <th></th>\n      <th>language</th>\n      <th>author</th>\n      <th>title</th>\n      <th>length</th>\n      <th>unique</th>\n    </tr>\n  </thead>\n  <tbody>\n    <tr>\n      <th>98</th>\n      <td>French</td>\n      <td>sand</td>\n      <td>La Marquise.txt</td>\n      <td>14716</td>\n      <td>4756</td>\n    </tr>\n    <tr>\n      <th>99</th>\n      <td>French</td>\n      <td>sand</td>\n      <td>L' Orco.txt</td>\n      <td>8748</td>\n      <td>3135</td>\n    </tr>\n    <tr>\n      <th>100</th>\n      <td>French</td>\n      <td>sand</td>\n      <td>Mattea.txt</td>\n      <td>21089</td>\n      <td>6391</td>\n    </tr>\n    <tr>\n      <th>101</th>\n      <td>French</td>\n      <td>sand</td>\n      <td>Metella.txt</td>\n      <td>19600</td>\n      <td>5646</td>\n    </tr>\n    <tr>\n      <th>102</th>\n      <td>French</td>\n      <td>sand</td>\n      <td>Oeuvres illustrÇes de George Sand.txt</td>\n      <td>23210</td>\n      <td>7442</td>\n    </tr>\n  </tbody>\n</table>\n</div>"
     },
     "metadata": {},
     "execution_count": 9
    }
   ],
   "source": [
    "stats.tail()"
   ]
  },
  {
   "cell_type": "markdown",
   "metadata": {},
   "source": [
    "This code is good, but I want the author to always appear capitalized, and get rid of the '.txt' in the title. For this we copy our code from before, but on line 16, where we go over the inputs for each column, we make author author.capitalize(), and title title.replace('.txt', '')"
   ]
  },
  {
   "cell_type": "code",
   "execution_count": 10,
   "metadata": {
    "tags": []
   },
   "outputs": [
    {
     "output_type": "stream",
     "name": "stdout",
     "text": "/Users/ashishsrivastava/Desktop/Central/Python/HarvardX_PH526x/week_3/python_case_studies/language_processing/Books/German/schiller/Wallensteins Lager.txt\n/Users/ashishsrivastava/Desktop/Central/Python/HarvardX_PH526x/week_3/python_case_studies/language_processing/Books/German/schiller/die braut von messina.txt\n/Users/ashishsrivastava/Desktop/Central/Python/HarvardX_PH526x/week_3/python_case_studies/language_processing/Books/German/schiller/Der Parasit, oder die Kunst, sein GlÅck zu machen.txt\n/Users/ashishsrivastava/Desktop/Central/Python/HarvardX_PH526x/week_3/python_case_studies/language_processing/Books/German/schiller/Die Verschwîrung des Fiesco zu Genua.txt\n/Users/ashishsrivastava/Desktop/Central/Python/HarvardX_PH526x/week_3/python_case_studies/language_processing/Books/German/schiller/Kabale und Liebe.txt\n/Users/ashishsrivastava/Desktop/Central/Python/HarvardX_PH526x/week_3/python_case_studies/language_processing/Books/German/schiller/Die Huldigung der KÅnste.txt\n/Users/ashishsrivastava/Desktop/Central/Python/HarvardX_PH526x/week_3/python_case_studies/language_processing/Books/German/schiller/Der Neffe als Onkel.txt\n/Users/ashishsrivastava/Desktop/Central/Python/HarvardX_PH526x/week_3/python_case_studies/language_processing/Books/German/schiller/Die Piccolomini.txt\n/Users/ashishsrivastava/Desktop/Central/Python/HarvardX_PH526x/week_3/python_case_studies/language_processing/Books/German/schiller/Die Jungfrau von Orleans.txt\n/Users/ashishsrivastava/Desktop/Central/Python/HarvardX_PH526x/week_3/python_case_studies/language_processing/Books/German/schiller/Turandot, Prinzessin von China.txt\n/Users/ashishsrivastava/Desktop/Central/Python/HarvardX_PH526x/week_3/python_case_studies/language_processing/Books/German/schiller/Wallensteins Tod.txt\n/Users/ashishsrivastava/Desktop/Central/Python/HarvardX_PH526x/week_3/python_case_studies/language_processing/Books/German/lessing/minna von barnhelm.txt\n/Users/ashishsrivastava/Desktop/Central/Python/HarvardX_PH526x/week_3/python_case_studies/language_processing/Books/German/lessing/hamburgische dramaturgie.txt\n/Users/ashishsrivastava/Desktop/Central/Python/HarvardX_PH526x/week_3/python_case_studies/language_processing/Books/German/lessing/miss sara sampson.txt\n/Users/ashishsrivastava/Desktop/Central/Python/HarvardX_PH526x/week_3/python_case_studies/language_processing/Books/German/lessing/die juden.txt\n/Users/ashishsrivastava/Desktop/Central/Python/HarvardX_PH526x/week_3/python_case_studies/language_processing/Books/German/lessing/der freigeist.txt\n/Users/ashishsrivastava/Desktop/Central/Python/HarvardX_PH526x/week_3/python_case_studies/language_processing/Books/German/lessing/philotas.txt\n/Users/ashishsrivastava/Desktop/Central/Python/HarvardX_PH526x/week_3/python_case_studies/language_processing/Books/German/lessing/der junge gelehrte.txt\n/Users/ashishsrivastava/Desktop/Central/Python/HarvardX_PH526x/week_3/python_case_studies/language_processing/Books/German/lessing/emilia galotti.txt\n/Users/ashishsrivastava/Desktop/Central/Python/HarvardX_PH526x/week_3/python_case_studies/language_processing/Books/German/raimund/Der Verschwender.txt\n/Users/ashishsrivastava/Desktop/Central/Python/HarvardX_PH526x/week_3/python_case_studies/language_processing/Books/German/raimund/Die gefesselte Phantasie.txt\n/Users/ashishsrivastava/Desktop/Central/Python/HarvardX_PH526x/week_3/python_case_studies/language_processing/Books/German/raimund/Moisasurs Zauberfluch.txt\n/Users/ashishsrivastava/Desktop/Central/Python/HarvardX_PH526x/week_3/python_case_studies/language_processing/Books/German/raimund/Das MÑdchen aus der Feenwelt.txt\n/Users/ashishsrivastava/Desktop/Central/Python/HarvardX_PH526x/week_3/python_case_studies/language_processing/Books/German/raimund/Der Barometermacher auf der Zauberinsel.txt\n/Users/ashishsrivastava/Desktop/Central/Python/HarvardX_PH526x/week_3/python_case_studies/language_processing/Books/German/raimund/Der Diamant des Geisterkînigs.txt\n/Users/ashishsrivastava/Desktop/Central/Python/HarvardX_PH526x/week_3/python_case_studies/language_processing/Books/German/raimund/Die unheilbringende Krone.txt\n/Users/ashishsrivastava/Desktop/Central/Python/HarvardX_PH526x/week_3/python_case_studies/language_processing/Books/German/raimund/Der Alpenkînig und der Menschenfeind.txt\n/Users/ashishsrivastava/Desktop/Central/Python/HarvardX_PH526x/week_3/python_case_studies/language_processing/Books/German/shakespeare/Othello.txt\n/Users/ashishsrivastava/Desktop/Central/Python/HarvardX_PH526x/week_3/python_case_studies/language_processing/Books/German/shakespeare/Der Kaufmann von Venedig.txt\n/Users/ashishsrivastava/Desktop/Central/Python/HarvardX_PH526x/week_3/python_case_studies/language_processing/Books/German/shakespeare/Ein Sommernachtstraum.txt\n/Users/ashishsrivastava/Desktop/Central/Python/HarvardX_PH526x/week_3/python_case_studies/language_processing/Books/German/shakespeare/Richard III.txt\n/Users/ashishsrivastava/Desktop/Central/Python/HarvardX_PH526x/week_3/python_case_studies/language_processing/Books/German/shakespeare/Macbeth.txt\n/Users/ashishsrivastava/Desktop/Central/Python/HarvardX_PH526x/week_3/python_case_studies/language_processing/Books/German/shakespeare/Romeo und Julia.txt\n/Users/ashishsrivastava/Desktop/Central/Python/HarvardX_PH526x/week_3/python_case_studies/language_processing/Books/German/shakespeare/Hamlet.txt\n/Users/ashishsrivastava/Desktop/Central/Python/HarvardX_PH526x/week_3/python_case_studies/language_processing/Books/English/shakespeare/Othello.txt\n/Users/ashishsrivastava/Desktop/Central/Python/HarvardX_PH526x/week_3/python_case_studies/language_processing/Books/English/shakespeare/Richard III.txt\n/Users/ashishsrivastava/Desktop/Central/Python/HarvardX_PH526x/week_3/python_case_studies/language_processing/Books/English/shakespeare/The Merchant of Venice.txt\n/Users/ashishsrivastava/Desktop/Central/Python/HarvardX_PH526x/week_3/python_case_studies/language_processing/Books/English/shakespeare/A Midsummer Night's Dream.txt\n/Users/ashishsrivastava/Desktop/Central/Python/HarvardX_PH526x/week_3/python_case_studies/language_processing/Books/English/shakespeare/Macbeth.txt\n/Users/ashishsrivastava/Desktop/Central/Python/HarvardX_PH526x/week_3/python_case_studies/language_processing/Books/English/shakespeare/Hamlet.txt\n/Users/ashishsrivastava/Desktop/Central/Python/HarvardX_PH526x/week_3/python_case_studies/language_processing/Books/English/shakespeare/Romeo and Juliet.txt\n/Users/ashishsrivastava/Desktop/Central/Python/HarvardX_PH526x/week_3/python_case_studies/language_processing/Books/Portuguese/branco/O Regicida.txt\n/Users/ashishsrivastava/Desktop/Central/Python/HarvardX_PH526x/week_3/python_case_studies/language_processing/Books/Portuguese/branco/Amor de Salvação.txt\n/Users/ashishsrivastava/Desktop/Central/Python/HarvardX_PH526x/week_3/python_case_studies/language_processing/Books/Portuguese/branco/Carlota Angela.txt\n/Users/ashishsrivastava/Desktop/Central/Python/HarvardX_PH526x/week_3/python_case_studies/language_processing/Books/Portuguese/branco/Lagrimas Abenáoadas.txt\n/Users/ashishsrivastava/Desktop/Central/Python/HarvardX_PH526x/week_3/python_case_studies/language_processing/Books/Portuguese/branco/O que fazem mulheres.txt\n/Users/ashishsrivastava/Desktop/Central/Python/HarvardX_PH526x/week_3/python_case_studies/language_processing/Books/Portuguese/branco/Livro de Consolação.txt\n/Users/ashishsrivastava/Desktop/Central/Python/HarvardX_PH526x/week_3/python_case_studies/language_processing/Books/Portuguese/branco/Amor de Perdição.txt\n/Users/ashishsrivastava/Desktop/Central/Python/HarvardX_PH526x/week_3/python_case_studies/language_processing/Books/Portuguese/branco/A Filha do Arcediago.txt\n/Users/ashishsrivastava/Desktop/Central/Python/HarvardX_PH526x/week_3/python_case_studies/language_processing/Books/Portuguese/branco/Annos de Prosa.txt\n/Users/ashishsrivastava/Desktop/Central/Python/HarvardX_PH526x/week_3/python_case_studies/language_processing/Books/Portuguese/branco/Estrellas Prop°cias.txt\n/Users/ashishsrivastava/Desktop/Central/Python/HarvardX_PH526x/week_3/python_case_studies/language_processing/Books/Portuguese/branco/O Olho de Vidro.txt\n/Users/ashishsrivastava/Desktop/Central/Python/HarvardX_PH526x/week_3/python_case_studies/language_processing/Books/Portuguese/branco/A Neta do Arcediago.txt\n/Users/ashishsrivastava/Desktop/Central/Python/HarvardX_PH526x/week_3/python_case_studies/language_processing/Books/Portuguese/branco/A Queda d'um Anjo.txt\n/Users/ashishsrivastava/Desktop/Central/Python/HarvardX_PH526x/week_3/python_case_studies/language_processing/Books/Portuguese/branco/Scenas Contemporaneas.txt\n/Users/ashishsrivastava/Desktop/Central/Python/HarvardX_PH526x/week_3/python_case_studies/language_processing/Books/Portuguese/branco/Agulha em Palheiro.txt\n/Users/ashishsrivastava/Desktop/Central/Python/HarvardX_PH526x/week_3/python_case_studies/language_processing/Books/Portuguese/branco/Estrellas Funestas.txt\n/Users/ashishsrivastava/Desktop/Central/Python/HarvardX_PH526x/week_3/python_case_studies/language_processing/Books/Portuguese/shakespeare/Hamlet.txt\n/Users/ashishsrivastava/Desktop/Central/Python/HarvardX_PH526x/week_3/python_case_studies/language_processing/Books/Portuguese/Queir¢s/A Cidade e as Serras.txt\n/Users/ashishsrivastava/Desktop/Central/Python/HarvardX_PH526x/week_3/python_case_studies/language_processing/Books/Portuguese/Queir¢s/A Illustre Casa de Ramires.txt\n/Users/ashishsrivastava/Desktop/Central/Python/HarvardX_PH526x/week_3/python_case_studies/language_processing/Books/Portuguese/Queir¢s/O Primo Bazilio.txt\n/Users/ashishsrivastava/Desktop/Central/Python/HarvardX_PH526x/week_3/python_case_studies/language_processing/Books/Portuguese/Queir¢s/Os Maias.txt\n/Users/ashishsrivastava/Desktop/Central/Python/HarvardX_PH526x/week_3/python_case_studies/language_processing/Books/Portuguese/Queir¢s/O Mandarim.txt\n/Users/ashishsrivastava/Desktop/Central/Python/HarvardX_PH526x/week_3/python_case_studies/language_processing/Books/Portuguese/Queir¢s/O crime do padre Amaro.txt\n/Users/ashishsrivastava/Desktop/Central/Python/HarvardX_PH526x/week_3/python_case_studies/language_processing/Books/Portuguese/Queir¢s/Cartas de Inglaterra.txt\n/Users/ashishsrivastava/Desktop/Central/Python/HarvardX_PH526x/week_3/python_case_studies/language_processing/Books/Portuguese/Queir¢s/A Rel°quia.txt\n/Users/ashishsrivastava/Desktop/Central/Python/HarvardX_PH526x/week_3/python_case_studies/language_processing/Books/Portuguese/Queir¢s/A correspondància de Fradique Mendes.txt\n/Users/ashishsrivastava/Desktop/Central/Python/HarvardX_PH526x/week_3/python_case_studies/language_processing/Books/Portuguese/dinis/A Morgadinha dos Cannaviaes.txt\n/Users/ashishsrivastava/Desktop/Central/Python/HarvardX_PH526x/week_3/python_case_studies/language_processing/Books/Portuguese/dinis/Uma fam°lia ingleza.txt\n/Users/ashishsrivastava/Desktop/Central/Python/HarvardX_PH526x/week_3/python_case_studies/language_processing/Books/Portuguese/dinis/Os fidalgos da Casa Mourisca.txt\n/Users/ashishsrivastava/Desktop/Central/Python/HarvardX_PH526x/week_3/python_case_studies/language_processing/Books/French/de Maupassant/Œuvres complètes de Guy de Maupassant.txt\n/Users/ashishsrivastava/Desktop/Central/Python/HarvardX_PH526x/week_3/python_case_studies/language_processing/Books/French/de Maupassant/La Main Gauche.txt\n/Users/ashishsrivastava/Desktop/Central/Python/HarvardX_PH526x/week_3/python_case_studies/language_processing/Books/French/de Maupassant/Contes de la Becasse.txt\n/Users/ashishsrivastava/Desktop/Central/Python/HarvardX_PH526x/week_3/python_case_studies/language_processing/Books/French/de Maupassant/Claire de Lune.txt\n/Users/ashishsrivastava/Desktop/Central/Python/HarvardX_PH526x/week_3/python_case_studies/language_processing/Books/French/de Maupassant/La petite roque.txt\n/Users/ashishsrivastava/Desktop/Central/Python/HarvardX_PH526x/week_3/python_case_studies/language_processing/Books/French/de Maupassant/Le Horla.txt\n/Users/ashishsrivastava/Desktop/Central/Python/HarvardX_PH526x/week_3/python_case_studies/language_processing/Books/French/de Maupassant/L'inutile beautÇ.txt\n/Users/ashishsrivastava/Desktop/Central/Python/HarvardX_PH526x/week_3/python_case_studies/language_processing/Books/French/de Maupassant/Boule de Suif.txt\n/Users/ashishsrivastava/Desktop/Central/Python/HarvardX_PH526x/week_3/python_case_studies/language_processing/Books/French/de Maupassant/La Maison Tellier.txt\n/Users/ashishsrivastava/Desktop/Central/Python/HarvardX_PH526x/week_3/python_case_studies/language_processing/Books/French/diderot/L'oiseau blanc.txt\n/Users/ashishsrivastava/Desktop/Central/Python/HarvardX_PH526x/week_3/python_case_studies/language_processing/Books/French/diderot/Les deux amis de Bourbonne.txt\n/Users/ashishsrivastava/Desktop/Central/Python/HarvardX_PH526x/week_3/python_case_studies/language_processing/Books/French/diderot/Regrets sur ma vieille robe de chambre.txt\n/Users/ashishsrivastava/Desktop/Central/Python/HarvardX_PH526x/week_3/python_case_studies/language_processing/Books/French/diderot/Ceci n'est pas un conte.txt\n/Users/ashishsrivastava/Desktop/Central/Python/HarvardX_PH526x/week_3/python_case_studies/language_processing/Books/French/diderot/Entretien d'un päre avec ses enfants.txt\n/Users/ashishsrivastava/Desktop/Central/Python/HarvardX_PH526x/week_3/python_case_studies/language_processing/Books/French/chevalier/La fille des indiens rouges.txt\n/Users/ashishsrivastava/Desktop/Central/Python/HarvardX_PH526x/week_3/python_case_studies/language_processing/Books/French/chevalier/Les derniers Iroquois.txt\n/Users/ashishsrivastava/Desktop/Central/Python/HarvardX_PH526x/week_3/python_case_studies/language_processing/Books/French/chevalier/La capitaine.txt\n/Users/ashishsrivastava/Desktop/Central/Python/HarvardX_PH526x/week_3/python_case_studies/language_processing/Books/French/chevalier/Le chasseur noir.txt\n/Users/ashishsrivastava/Desktop/Central/Python/HarvardX_PH526x/week_3/python_case_studies/language_processing/Books/French/chevalier/L'enfer et le paradis de l'autre monde.txt\n/Users/ashishsrivastava/Desktop/Central/Python/HarvardX_PH526x/week_3/python_case_studies/language_processing/Books/French/chevalier/L'åle de sable.txt\n/Users/ashishsrivastava/Desktop/Central/Python/HarvardX_PH526x/week_3/python_case_studies/language_processing/Books/French/chevalier/La fille du pirate.txt\n/Users/ashishsrivastava/Desktop/Central/Python/HarvardX_PH526x/week_3/python_case_studies/language_processing/Books/French/sand/Le poâme de Myrza.txt\n/Users/ashishsrivastava/Desktop/Central/Python/HarvardX_PH526x/week_3/python_case_studies/language_processing/Books/French/sand/La Coupe; Lupo Liverani; Le Toast; Garnier; Le Contrebandier; La Ràverie Ö Paris.txt\n/Users/ashishsrivastava/Desktop/Central/Python/HarvardX_PH526x/week_3/python_case_studies/language_processing/Books/French/sand/Le Piccinino.txt\n/Users/ashishsrivastava/Desktop/Central/Python/HarvardX_PH526x/week_3/python_case_studies/language_processing/Books/French/sand/Jacques le fataliste et son maåtre.txt\n/Users/ashishsrivastava/Desktop/Central/Python/HarvardX_PH526x/week_3/python_case_studies/language_processing/Books/French/sand/Pauline.txt\n/Users/ashishsrivastava/Desktop/Central/Python/HarvardX_PH526x/week_3/python_case_studies/language_processing/Books/French/sand/cora.txt\n/Users/ashishsrivastava/Desktop/Central/Python/HarvardX_PH526x/week_3/python_case_studies/language_processing/Books/French/sand/La Marquise.txt\n/Users/ashishsrivastava/Desktop/Central/Python/HarvardX_PH526x/week_3/python_case_studies/language_processing/Books/French/sand/L' Orco.txt\n/Users/ashishsrivastava/Desktop/Central/Python/HarvardX_PH526x/week_3/python_case_studies/language_processing/Books/French/sand/Mattea.txt\n/Users/ashishsrivastava/Desktop/Central/Python/HarvardX_PH526x/week_3/python_case_studies/language_processing/Books/French/sand/Metella.txt\n/Users/ashishsrivastava/Desktop/Central/Python/HarvardX_PH526x/week_3/python_case_studies/language_processing/Books/French/sand/Oeuvres illustrÇes de George Sand.txt\n"
    }
   ],
   "source": [
    "import pandas as pd\n",
    "stats = pd.DataFrame(columns = ('language', 'author', 'title', 'length', 'unique'))\n",
    "#to add data to this table, we need to keep track of the rows of the table\n",
    "title_num = 1\n",
    "\n",
    "for language in os.listdir(book_dir):\n",
    "    #loops over authors\n",
    "    for author in os.listdir(book_dir + '/' + language):\n",
    "        #loops over titles\n",
    "        for title in os.listdir(book_dir + '/' + language + '/' + author):\n",
    "            inputfile = book_dir + '/' + language + '/' + author + '/' + title\n",
    "            #to test that it's working correctly\n",
    "            print(inputfile)\n",
    "            text = read_book(inputfile)\n",
    "            (num_unique, counts) = word_stats(count_words(text))\n",
    "            stats.loc[title_num] = language, author.capitalize(), title.replace('.txt', ''), sum(counts), num_unique\n",
    "            title_num +=1"
   ]
  },
  {
   "cell_type": "code",
   "execution_count": 13,
   "metadata": {},
   "outputs": [
    {
     "output_type": "execute_result",
     "data": {
      "text/plain": "  language    author                                              title  \\\n1   German  Schiller                                 Wallensteins Lager   \n2   German  Schiller                              die braut von messina   \n3   German  Schiller  Der Parasit, oder die Kunst, sein GlÅck zu machen   \n4   German  Schiller               Die Verschwîrung des Fiesco zu Genua   \n5   German  Schiller                                   Kabale und Liebe   \n\n  length unique  \n1  15443   4241  \n2  26482   6345  \n3  20450   5919  \n4  31128   9996  \n5  30929   9608  ",
      "text/html": "<div>\n<style scoped>\n    .dataframe tbody tr th:only-of-type {\n        vertical-align: middle;\n    }\n\n    .dataframe tbody tr th {\n        vertical-align: top;\n    }\n\n    .dataframe thead th {\n        text-align: right;\n    }\n</style>\n<table border=\"1\" class=\"dataframe\">\n  <thead>\n    <tr style=\"text-align: right;\">\n      <th></th>\n      <th>language</th>\n      <th>author</th>\n      <th>title</th>\n      <th>length</th>\n      <th>unique</th>\n    </tr>\n  </thead>\n  <tbody>\n    <tr>\n      <th>1</th>\n      <td>German</td>\n      <td>Schiller</td>\n      <td>Wallensteins Lager</td>\n      <td>15443</td>\n      <td>4241</td>\n    </tr>\n    <tr>\n      <th>2</th>\n      <td>German</td>\n      <td>Schiller</td>\n      <td>die braut von messina</td>\n      <td>26482</td>\n      <td>6345</td>\n    </tr>\n    <tr>\n      <th>3</th>\n      <td>German</td>\n      <td>Schiller</td>\n      <td>Der Parasit, oder die Kunst, sein GlÅck zu machen</td>\n      <td>20450</td>\n      <td>5919</td>\n    </tr>\n    <tr>\n      <th>4</th>\n      <td>German</td>\n      <td>Schiller</td>\n      <td>Die Verschwîrung des Fiesco zu Genua</td>\n      <td>31128</td>\n      <td>9996</td>\n    </tr>\n    <tr>\n      <th>5</th>\n      <td>German</td>\n      <td>Schiller</td>\n      <td>Kabale und Liebe</td>\n      <td>30929</td>\n      <td>9608</td>\n    </tr>\n  </tbody>\n</table>\n</div>"
     },
     "metadata": {},
     "execution_count": 13
    },
    {
     "output_type": "execute_result",
     "data": {
      "text/plain": "    language author                              title length unique\n98    French   Sand                        La Marquise  14716   4756\n99    French   Sand                            L' Orco   8748   3135\n100   French   Sand                             Mattea  21089   6391\n101   French   Sand                            Metella  19600   5646\n102   French   Sand  Oeuvres illustrÇes de George Sand  23210   7442",
      "text/html": "<div>\n<style scoped>\n    .dataframe tbody tr th:only-of-type {\n        vertical-align: middle;\n    }\n\n    .dataframe tbody tr th {\n        vertical-align: top;\n    }\n\n    .dataframe thead th {\n        text-align: right;\n    }\n</style>\n<table border=\"1\" class=\"dataframe\">\n  <thead>\n    <tr style=\"text-align: right;\">\n      <th></th>\n      <th>language</th>\n      <th>author</th>\n      <th>title</th>\n      <th>length</th>\n      <th>unique</th>\n    </tr>\n  </thead>\n  <tbody>\n    <tr>\n      <th>98</th>\n      <td>French</td>\n      <td>Sand</td>\n      <td>La Marquise</td>\n      <td>14716</td>\n      <td>4756</td>\n    </tr>\n    <tr>\n      <th>99</th>\n      <td>French</td>\n      <td>Sand</td>\n      <td>L' Orco</td>\n      <td>8748</td>\n      <td>3135</td>\n    </tr>\n    <tr>\n      <th>100</th>\n      <td>French</td>\n      <td>Sand</td>\n      <td>Mattea</td>\n      <td>21089</td>\n      <td>6391</td>\n    </tr>\n    <tr>\n      <th>101</th>\n      <td>French</td>\n      <td>Sand</td>\n      <td>Metella</td>\n      <td>19600</td>\n      <td>5646</td>\n    </tr>\n    <tr>\n      <th>102</th>\n      <td>French</td>\n      <td>Sand</td>\n      <td>Oeuvres illustrÇes de George Sand</td>\n      <td>23210</td>\n      <td>7442</td>\n    </tr>\n  </tbody>\n</table>\n</div>"
     },
     "metadata": {},
     "execution_count": 13
    }
   ],
   "source": [
    "stats.head()\n",
    "stats.tail()\n"
   ]
  },
  {
   "cell_type": "code",
   "execution_count": null,
   "metadata": {},
   "outputs": [],
   "source": []
  }
 ],
 "metadata": {
  "language_info": {
   "codemirror_mode": {
    "name": "ipython",
    "version": 3
   },
   "file_extension": ".py",
   "mimetype": "text/x-python",
   "name": "python",
   "nbconvert_exporter": "python",
   "pygments_lexer": "ipython3",
   "version": "3.7.4-final"
  },
  "orig_nbformat": 2,
  "kernelspec": {
   "name": "python3",
   "display_name": "Python 3"
  }
 },
 "nbformat": 4,
 "nbformat_minor": 2
}