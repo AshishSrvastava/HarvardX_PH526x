{
 "cells": [
  {
   "cell_type": "code",
   "execution_count": 1,
   "metadata": {},
   "outputs": [],
   "source": [
    "#Necessary so that each cell can produce multiple outputs\n",
    "from IPython.core.interactiveshell import InteractiveShell\n",
    "InteractiveShell.ast_node_interactivity = \"all\""
   ]
  },
  {
   "cell_type": "markdown",
   "metadata": {},
   "source": [
    "## 3.2.2: Finding the Distance Between Two Points\n",
    "***\n",
    "- learn how to use Python to determine the Euclidean __distance between two points__ as a NumPy array\n",
    "<p align=\"center\">\n",
    "  <img width=\"474\" height=\"274\" src=\"euclid_dist_drawing.1.jpg\">\n",
    "</p>\n",
    "\n",
    "Here we have two points, and want to find the length of the distance between them (a '?' on the diagram)\n",
    "\n",
    "We can draw lines horizontally and vertically to form a triangle, whose side lenghts we know:\n",
    "<p align=\"center\">\n",
    "  <img width=\"474\" height=\"274\" src=\"euclid_dist_drawing.2.jpg\">\n",
    "</p>\n",
    "\n",
    "The side lengths are $|x_2-x_1|$ and $|y_2-y_1|$\n",
    "If we now say that the length of the longest side is $d$, then we can calculate the distance using the pythagorean theorem:\n",
    "$d^2 = \\sqrt{(x_2-x_1)^2+(y_2-y_1)^2}$\n",
    "\n",
    "Now let's implement these ideas in code. Since we're dealing with vectors, we'll use NumPy for this\n",
    " - From a mathematical perspective, it will be easier to use column vectors, but row vectors are easier to use in NumPy\n",
    "\n"
   ]
  },
  {
   "cell_type": "code",
   "execution_count": 2,
   "metadata": {},
   "outputs": [
    {
     "data": {
      "text/plain": [
       "array([3, 3])"
      ]
     },
     "execution_count": 2,
     "metadata": {},
     "output_type": "execute_result"
    }
   ],
   "source": [
    "import numpy as np\n",
    "p1 = np.array([1,1])\n",
    "p2 = np.array([4,4])\n",
    "p2-p1"
   ]
  },
  {
   "cell_type": "markdown",
   "metadata": {},
   "source": [
    "Now, we want to take this difference, and square it using the np.power() function\n"
   ]
  },
  {
   "cell_type": "code",
   "execution_count": 3,
   "metadata": {},
   "outputs": [
    {
     "data": {
      "text/plain": [
       "array([9, 9])"
      ]
     },
     "execution_count": 3,
     "metadata": {},
     "output_type": "execute_result"
    }
   ],
   "source": [
    "np.power(p2-p1,2)"
   ]
  },
  {
   "cell_type": "markdown",
   "metadata": {},
   "source": [
    "We have the square differences between the x and y coordinates of these two points\n",
    "Now we sum over these two terms, and then square root"
   ]
  },
  {
   "cell_type": "code",
   "execution_count": 4,
   "metadata": {},
   "outputs": [
    {
     "data": {
      "text/plain": [
       "4.242640687119285"
      ]
     },
     "execution_count": 4,
     "metadata": {},
     "output_type": "execute_result"
    }
   ],
   "source": [
    "np.sqrt(np.sum(np.power(p2-p1,2)))"
   ]
  },
  {
   "cell_type": "markdown",
   "metadata": {},
   "source": [
    "Now let's turn this code into a function"
   ]
  },
  {
   "cell_type": "code",
   "execution_count": 5,
   "metadata": {},
   "outputs": [
    {
     "data": {
      "text/plain": [
       "4.242640687119285"
      ]
     },
     "execution_count": 5,
     "metadata": {},
     "output_type": "execute_result"
    }
   ],
   "source": [
    "import numpy as np\n",
    "def distance(p1, p2):\n",
    "    '''Find the distance between points p1 and p2'''\n",
    "    return np.sqrt(np.sum(np.power(p2-p1,2)))\n",
    "\n",
    "p1 = np.array([1,1])\n",
    "p2 = np.array([4,4])\n",
    "\n",
    "distance(p1,p2)\n",
    "#gives 4.242640687119285"
   ]
  },
  {
   "cell_type": "markdown",
   "metadata": {},
   "source": [
    "This gives us the same answer as before, so the function works!"
   ]
  },
  {
   "cell_type": "markdown",
   "metadata": {},
   "source": [
    "## 3.2.3: Finding the Majority Vote\n",
    "***\n",
    "- learn how to find the __most common vote__ in an array or a sequence of votes\n",
    "- __Compare__ two different methods for finding the most common vote\n",
    "\n",
    "NOTE: Note that while this method is commonly called \"majority vote,\" what is actually determined is the plurality vote, because the most common vote does not need to represent a majority of votes. We have used the standard naming convention of majority vote here."
   ]
  },
  {
   "cell_type": "markdown",
   "metadata": {},
   "source": [
    "\n",
    "- For building our kNN classifier, we need to be able to calculate a majority vote\n",
    "    - Given an array/sequence of fobes (ex. 1,2,3), we need to determine how many times each occurs then find the most common vote\n",
    "    - Ex: 1,1,2,2,2,3: majority vote is 2\n",
    "    - We need to count the # of times each vote occurs, but will not be returning the count (we'll return the observation corresponding to the highest count)\n",
    "\n",
    "Let's build a function called majority_vote (which will be similar to the count_words function in the previous case study)\n",
    "\n",
    "Here's the count_words function that we previously defined:"
   ]
  },
  {
   "cell_type": "code",
   "execution_count": 6,
   "metadata": {},
   "outputs": [],
   "source": [
    "def count_words(text):\n",
    "    '''\n",
    "    Counts the number of times each word occurs in the text (str). Returns dictionary where keys are\n",
    "    unique words and values are word counts. Skip punctuation. \n",
    "    '''\n",
    "    \n",
    "    text = text.lower()\n",
    "    skips = [\".\", \",\", \";\", \":\", \"'\", '\"', \"!\", \"?\"]\n",
    "    for ch in skips:\n",
    "        text = text.replace(ch, \"\")\n",
    "\n",
    "    word_counts= {}\n",
    "    for word in text.split(' '):\n",
    "        if word in word_counts:\n",
    "            word_counts[word] += 1\n",
    "        else: \n",
    "            word_counts[word] = 1\n",
    "    return word_counts"
   ]
  },
  {
   "cell_type": "markdown",
   "metadata": {},
   "source": [
    "Let's define our new function by editing the old one:"
   ]
  },
  {
   "cell_type": "code",
   "execution_count": 7,
   "metadata": {},
   "outputs": [],
   "source": [
    "def majority_vote(votes):\n",
    "    '''\n",
    "    xxx\n",
    "    '''\n",
    "    vote_counts = {}\n",
    "    for vote in votes:\n",
    "        if vote in vote_counts:\n",
    "            vote_counts[vote] += 1\n",
    "        else: \n",
    "            vote_counts[vote] = 1\n",
    "    return vote_counts"
   ]
  },
  {
   "cell_type": "markdown",
   "metadata": {},
   "source": [
    "Now let's try it out with some data"
   ]
  },
  {
   "cell_type": "code",
   "execution_count": 9,
   "metadata": {},
   "outputs": [
    {
     "data": {
      "text/plain": [
       "{1: 3, 2: 3, 3: 6}"
      ]
     },
     "execution_count": 9,
     "metadata": {},
     "output_type": "execute_result"
    }
   ],
   "source": [
    "votes = [1,2,3,1,2,3,1,2,3,3,3,3]\n",
    "vote_counts = majority_vote(votes)\n",
    "vote_counts"
   ]
  },
  {
   "cell_type": "markdown",
   "metadata": {},
   "source": [
    "In this dictionary, the keys are the different votes that occurred, and the values are the number of occurences of the vote.\n",
    "\n",
    "Looking at this dictionary, we can tell that 3 occurred the most times, but how can we get python to do this?\n",
    "- Given a dictionary where the values are counts, how can we get Python to return the key that corresponds to the largest value?\n",
    "\n",
    "Let's start by finding the maximum counts.\n"
   ]
  },
  {
   "cell_type": "code",
   "execution_count": 17,
   "metadata": {},
   "outputs": [
    {
     "data": {
      "text/plain": [
       "3"
      ]
     },
     "execution_count": 17,
     "metadata": {},
     "output_type": "execute_result"
    },
    {
     "data": {
      "text/plain": [
       "3"
      ]
     },
     "execution_count": 17,
     "metadata": {},
     "output_type": "execute_result"
    },
    {
     "data": {
      "text/plain": [
       "6"
      ]
     },
     "execution_count": 17,
     "metadata": {},
     "output_type": "execute_result"
    }
   ],
   "source": [
    "#the following code returns the maximum key\n",
    "max(vote_counts) \n",
    "# or \n",
    "max(vote_counts.keys())\n",
    "\n",
    "#We want the maximum VALUE\n",
    "max_counts = max(vote_counts.values())\n",
    "max_counts"
   ]
  },
  {
   "cell_type": "markdown",
   "metadata": {},
   "source": [
    "Let's add this code to our editor for future use"
   ]
  },
  {
   "cell_type": "code",
   "execution_count": 18,
   "metadata": {},
   "outputs": [],
   "source": [
    "def majority_vote(votes):\n",
    "    '''\n",
    "    xxx\n",
    "    '''\n",
    "    vote_counts = {}\n",
    "    for vote in votes:\n",
    "        if vote in vote_counts:\n",
    "            vote_counts[vote] += 1\n",
    "        else: \n",
    "            vote_counts[vote] = 1\n",
    "    return vote_counts\n",
    "\n",
    "votes = [1,2,3,1,2,3,1,2,3,3,3,3]\n",
    "vote_counts = majority_vote(votes)\n",
    "\n",
    "max_counts = max(vote_counts.values())"
   ]
  },
  {
   "cell_type": "markdown",
   "metadata": {},
   "source": [
    "Now we can loop over all entries in the dictionary, and find which entry/entries corresponds to the maximum count using the items method of dictionaries"
   ]
  },
  {
   "cell_type": "code",
   "execution_count": 19,
   "metadata": {
    "tags": []
   },
   "outputs": [
    {
     "name": "stdout",
     "output_type": "stream",
     "text": [
      "1 3\n",
      "2 3\n",
      "3 6\n"
     ]
    }
   ],
   "source": [
    "for vote, count in vote_counts.items():\n",
    "    print(vote, count)"
   ]
  },
  {
   "cell_type": "markdown",
   "metadata": {},
   "source": [
    "The above code loops over the dictionary and for each entry prints the key and value associated to it. This is a good starting point for our code.\n",
    "\n",
    "What we want to know now is if the current entry we're looking at has the maximum number of votes"
   ]
  },
  {
   "cell_type": "code",
   "execution_count": 23,
   "metadata": {
    "tags": []
   },
   "outputs": [
    {
     "data": {
      "text/plain": [
       "[3]"
      ]
     },
     "execution_count": 23,
     "metadata": {},
     "output_type": "execute_result"
    }
   ],
   "source": [
    "#Use an empty list 'winners' for keeping track of the keys that correspond to the highest values\n",
    "winners = []\n",
    "max_count = max(vote_counts.values())\n",
    "\n",
    "for vote, count in vote_counts.items():\n",
    "    if count == max_count:\n",
    "        winners.append(vote)\n",
    "winners"
   ]
  },
  {
   "cell_type": "markdown",
   "metadata": {},
   "source": [
    "If we have a tie, we can just pick one of the winners at random, since there's no difference. Let's modify the code accordingly, and also turn it into a function:\n"
   ]
  },
  {
   "cell_type": "code",
   "execution_count": 26,
   "metadata": {},
   "outputs": [],
   "source": [
    "import random\n",
    "\n",
    "def majority_vote(votes):\n",
    "    '''\n",
    "    Return the most common element in votes\n",
    "    '''\n",
    "    vote_counts = {}\n",
    "    for vote in votes:\n",
    "        if vote in vote_counts:\n",
    "            vote_counts[vote] += 1\n",
    "        else: \n",
    "            vote_counts[vote] = 1\n",
    "\n",
    "    winners = []\n",
    "    max_count = max(vote_counts.values())\n",
    "    for vote, count in vote_counts.items():\n",
    "        if count == max_count:\n",
    "            winners.append(vote)\n",
    "    \n",
    "    return random.choice(winners)\n",
    "\n"
   ]
  },
  {
   "cell_type": "markdown",
   "metadata": {},
   "source": [
    "Let's try our function out on the previous example dataset"
   ]
  },
  {
   "cell_type": "code",
   "execution_count": 39,
   "metadata": {},
   "outputs": [
    {
     "data": {
      "text/plain": [
       "2"
      ]
     },
     "execution_count": 39,
     "metadata": {},
     "output_type": "execute_result"
    },
    {
     "data": {
      "text/plain": [
       "3"
      ]
     },
     "execution_count": 39,
     "metadata": {},
     "output_type": "execute_result"
    },
    {
     "data": {
      "text/plain": [
       "2"
      ]
     },
     "execution_count": 39,
     "metadata": {},
     "output_type": "execute_result"
    }
   ],
   "source": [
    "votes = [1,2,3,1,2,3,1,2,3,3,3,3,2,2,2]\n",
    "winner = majority_vote(votes)\n",
    "winner\n",
    "winner = majority_vote(votes)\n",
    "winner\n",
    "winner = majority_vote(votes)\n",
    "winner"
   ]
  },
  {
   "cell_type": "markdown",
   "metadata": {},
   "source": [
    "Most commonly ocurring element in a sequence is the __mode__\n",
    "Finding the mode is a common statistical operation, so we could use a shorter method (using scipy.stats.mstats.mode())\n",
    "\n"
   ]
  },
  {
   "cell_type": "code",
   "execution_count": null,
   "metadata": {},
   "outputs": [],
   "source": [
    "import scipy.stats as ss\n",
    "def majority_vote_short(votes):\n",
    "    '''\n",
    "    Return the most common element in votes\n",
    "    '''\n",
    "    mode, count = ss.mstats.mode(votes)\n",
    "    return mode"
   ]
  }
 ],
 "metadata": {
  "kernelspec": {
   "display_name": "Python 3",
   "language": "python",
   "name": "python3"
  },
  "language_info": {
   "codemirror_mode": {
    "name": "ipython",
    "version": 3
   },
   "file_extension": ".py",
   "mimetype": "text/x-python",
   "name": "python",
   "nbconvert_exporter": "python",
   "pygments_lexer": "ipython3",
   "version": "3.7.4"
  }
 },
 "nbformat": 4,
 "nbformat_minor": 2
}
